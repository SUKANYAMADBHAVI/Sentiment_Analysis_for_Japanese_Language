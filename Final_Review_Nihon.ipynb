{
  "cells": [
    {
      "cell_type": "code",
      "execution_count": 1,
      "metadata": {
        "id": "UIatbq3Plvnb"
      },
      "outputs": [],
      "source": [
        "import numpy as np\n",
        "import pandas as pd\n",
        "from pathlib import Path\n",
        "import json\n",
        "import matplotlib.pyplot as plt\n",
        "\n",
        "pd.options.display.width = 180\n",
        "pd.options.display.max_colwidth = 120"
      ]
    },
    {
      "cell_type": "code",
      "execution_count": 2,
      "metadata": {
        "id": "cIubCmuFmyxG"
      },
      "outputs": [],
      "source": [
        "data_dir = 'D:\\\\full-stack\\\\nlp_miniproject\\\\chABSA-dataset'\n",
        "# data_dir = '/content/drive/MyDrive/chABSA-dataset'\n",
        "data_path = Path(data_dir)"
      ]
    },
    {
      "cell_type": "code",
      "execution_count": 3,
      "metadata": {
        "colab": {
          "base_uri": "https://localhost:8080/"
        },
        "id": "COEWsZDRmy0A",
        "outputId": "f0cc2154-6031-4dcd-e7e4-530f35cd739a"
      },
      "outputs": [
        {
          "name": "stdout",
          "output_type": "stream",
          "text": [
            "230\n",
            "[WindowsPath('D:/full-stack/nlp_miniproject/chABSA-dataset/e00008_ann.json'), WindowsPath('D:/full-stack/nlp_miniproject/chABSA-dataset/e00017_ann.json'), WindowsPath('D:/full-stack/nlp_miniproject/chABSA-dataset/e00024_ann.json'), WindowsPath('D:/full-stack/nlp_miniproject/chABSA-dataset/e00026_ann.json'), WindowsPath('D:/full-stack/nlp_miniproject/chABSA-dataset/e00030_ann.json')]\n"
          ]
        }
      ],
      "source": [
        "path_list = [p for p in data_path.iterdir()]\n",
        "print(len(path_list))\n",
        "print(path_list[:5])"
      ]
    },
    {
      "cell_type": "code",
      "execution_count": 4,
      "metadata": {
        "id": "awR0tPzRmy2v"
      },
      "outputs": [],
      "source": [
        "with open(path_list[0], \"br\") as f:\n",
        "    j =  json.load(f)\n",
        "sentences = j[\"sentences\"]\n",
        "\n",
        "def create_rating(sentences):\n",
        "    rating = []\n",
        "    for obj in sentences:\n",
        "        s = obj[\"sentence\"]\n",
        "        op = obj[\"opinions\"]\n",
        "        porarity = 0\n",
        "        for o in op:\n",
        "            p = o[\"polarity\"]\n",
        "            if p == \"positive\":\n",
        "                porarity += 1\n",
        "            elif p == \"negative\":\n",
        "                porarity -= 1\n",
        "        if porarity !=0 :\n",
        "            rating.append((porarity, s))\n",
        "    return rating\n"
      ]
    },
    {
      "cell_type": "code",
      "execution_count": 5,
      "metadata": {
        "colab": {
          "base_uri": "https://localhost:8080/"
        },
        "id": "ye6kIFmWmy6v",
        "outputId": "62f307ba-1bbd-45fd-8001-5ffbd64daa0c"
      },
      "outputs": [
        {
          "data": {
            "text/plain": [
              "[(4,\n",
              "  '当連結会計年度におけるわが国経済は、政府の経済政策や日銀の金融緩和策により、企業業績、雇用・所得環境は改善し、景気も緩やかな回復基調のうちに推移いたしましたが、中国をはじめとするアジア新興国経済の減速懸念や、英国の欧州連合（ＥＵ）離脱決定、米国新政権への移行など、引き続き先行きは不透明な状況となっております'),\n",
              " (-5,\n",
              "  '当社グループを取り巻く環境は、実質賃金が伸び悩むなか、消費者の皆様の生活防衛意識の高まりや節約志向により、個人消費は本格的な改善には至らず、また少子高齢化、人口減少による社会構造の変化、雇用改善に伴う労働コストの上昇、企業間競争の激化など、引き続き厳しい状況となりました'),\n",
              " (2,\n",
              "  '以上の結果、当連結会計年度の当社グループの業績は、売上高631億19百万円（前期比3.5％増）、営業利益34億30百万円（前期比0.1％増）、経常利益43億79百万円（前期比7.5％増）、親会社株主に帰属する当期純利益は28億28百万円（前期比8.9％増）となりました'),\n",
              " (1,\n",
              "  'なお、当連結会計年度の生産量は、ブナピーを含めブナシメジ42,602ｔ（同5.5％増）、エリンギ19,250ｔ（同0.2％減）、マイタケ14,281ｔ（同4.3％増）となりました'),\n",
              " (1,\n",
              "  '平成27年４月の火災により生産を休止していた苫小牧第一きのこセンターが、工場を再建し、平成28年４月27日よりブナシメジの収穫・出荷を再開したことや、カットブナシメジ専用工場として新設した富山きのこセンターが平成28年９月上旬から収穫・出荷を開始したことにより、ブナシメジの生産量は増加いたしました'),\n",
              " (1,\n",
              "  'また、改修のため一時生産を休止しておりました広川きのこセンターにおきまして、平成28年９月上旬より霜降りひらたけの収穫・出荷を開始したことなどにより、きのこ全体の生産量は増加いたしました'),\n",
              " (-2, '春から夏にかけましては個人消費の低迷などにより、きのこの価格は厳しい状況で推移いたしました'),\n",
              " (2, '反面、秋から冬にかけましては天候不順などによる野菜価格の高騰により、きのこの価格は堅調に推移いたしました'),\n",
              " (1, '以上の結果、国内きのこ事業全体の売上高は422億96百万円（同3.1％増）となりました'),\n",
              " (2, '海外きのこ事業におきましては、各子会社が稼働率を高めたことにより、生産量は増加いたしました'),\n",
              " (-2,\n",
              "  '台湾の現地法人「台灣北斗生技股份有限公司」におきましては、ブランドの構築、企画提案などに力を入れ販売活動を行ってまいりましたが、企業間競争の激化により厳しい状況で推移いたしました'),\n",
              " (1, '以上の結果、海外きのこ事業全体の売上高は45億12百万円（同1.4％増）となりました'),\n",
              " (1, 'また、子会社の株式会社アーデンにおきましては、ＯＥＭ製品が好調に推移いたしました'),\n",
              " (1, '以上の結果、加工品事業の売上高は70億64百万円（同15.5％増）となりました'),\n",
              " (-1,\n",
              "  '化成品事業におきましては、引き続き厳しい販売環境にありましたが、中核である包装資材部門におきましては、効率化・利益率の改善を図るため営業戦略を見直し、販売強化に注力してまいりました'),\n",
              " (-1, '以上の結果、化成品事業の売上高は92億45百万円（同1.7％減）となりました')]"
            ]
          },
          "execution_count": 5,
          "metadata": {},
          "output_type": "execute_result"
        }
      ],
      "source": [
        "create_rating(sentences)"
      ]
    },
    {
      "cell_type": "code",
      "execution_count": 6,
      "metadata": {
        "colab": {
          "base_uri": "https://localhost:8080/",
          "height": 255
        },
        "id": "J0PcCu0Vmy86",
        "outputId": "ea0d3e3e-1ce7-4dec-cc99-9251328af762"
      },
      "outputs": [
        {
          "name": "stdout",
          "output_type": "stream",
          "text": [
            "2813\n"
          ]
        }
      ],
      "source": [
        "rating = []\n",
        "for p in path_list:\n",
        "    with open(p, \"br\") as f:\n",
        "        j =  json.load(f)\n",
        "    s = j[\"sentences\"]\n",
        "    rating += create_rating(s)\n",
        "    \n",
        "print(len(rating))"
      ]
    },
    {
      "cell_type": "code",
      "execution_count": 7,
      "metadata": {
        "colab": {
          "base_uri": "https://localhost:8080/"
        },
        "id": "yQL5x8pmmy_H",
        "outputId": "eb8e651d-24c0-40e0-a9ce-afa73b5f1ea5"
      },
      "outputs": [
        {
          "data": {
            "text/plain": [
              "(1143, 1670)"
            ]
          },
          "execution_count": 7,
          "metadata": {},
          "output_type": "execute_result"
        }
      ],
      "source": [
        "neg = []\n",
        "pos = []\n",
        "for t in rating:\n",
        "    if t[0] > 0:\n",
        "        pos.append(t[1])\n",
        "    else:\n",
        "        neg.append(t[1])\n",
        "        \n",
        "(len(neg), len(pos))"
      ]
    },
    {
      "cell_type": "code",
      "execution_count": 9,
      "metadata": {
        "id": "2s92FqxzmzBp"
      },
      "outputs": [],
      "source": [
        "with open('D:\\\\full-stack\\\\nlp_miniproject\\\\neg.txt', 'w',errors=\"ignore\") as f:\n",
        "    for s in neg:\n",
        "        r = s + '\\n'\n",
        "        f.write(r)\n",
        "\n",
        "with open('D:\\\\full-stack\\\\nlp_miniproject\\\\pos.txt', 'w',errors=\"ignore\") as f:\n",
        "    for s in pos:\n",
        "        r = s + '\\n'\n",
        "        f.write(r)"
      ]
    },
    {
      "cell_type": "code",
      "execution_count": 10,
      "metadata": {
        "colab": {
          "base_uri": "https://localhost:8080/",
          "height": 589
        },
        "id": "iY1Rq5qZmzEZ",
        "outputId": "4e590e40-4aea-4ab9-9048-5f92a1fd7ab2"
      },
      "outputs": [
        {
          "data": {
            "text/html": [
              "<div>\n",
              "<style scoped>\n",
              "    .dataframe tbody tr th:only-of-type {\n",
              "        vertical-align: middle;\n",
              "    }\n",
              "\n",
              "    .dataframe tbody tr th {\n",
              "        vertical-align: top;\n",
              "    }\n",
              "\n",
              "    .dataframe thead th {\n",
              "        text-align: right;\n",
              "    }\n",
              "</style>\n",
              "<table border=\"1\" class=\"dataframe\">\n",
              "  <thead>\n",
              "    <tr style=\"text-align: right;\">\n",
              "      <th></th>\n",
              "      <th>Id</th>\n",
              "      <th>text</th>\n",
              "      <th>target</th>\n",
              "    </tr>\n",
              "  </thead>\n",
              "  <tbody>\n",
              "    <tr>\n",
              "      <th>0</th>\n",
              "      <td>0</td>\n",
              "      <td>建設用クレーン事業は、北米市場の低迷が長期化したことから、受注、売上ともに減少いたしました</td>\n",
              "      <td>1</td>\n",
              "    </tr>\n",
              "    <tr>\n",
              "      <th>1</th>\n",
              "      <td>1</td>\n",
              "      <td>この結果、売上高は前連結会計年度に比べて増加しました</td>\n",
              "      <td>2</td>\n",
              "    </tr>\n",
              "    <tr>\n",
              "      <th>2</th>\n",
              "      <td>2</td>\n",
              "      <td>セグメント利益は、電子部品向け金属粉の販売好調により、同186百万円増益（32.6％増益）の759百万円となりました</td>\n",
              "      <td>2</td>\n",
              "    </tr>\n",
              "    <tr>\n",
              "      <th>3</th>\n",
              "      <td>3</td>\n",
              "      <td>建設工事業の売上高は、石油関連施設の受注物件の工事完工が順調に進んだことから前期を上回った</td>\n",
              "      <td>2</td>\n",
              "    </tr>\n",
              "    <tr>\n",
              "      <th>4</th>\n",
              "      <td>4</td>\n",
              "      <td>このような状況の中、半導体製造装置向け製品の需要が高水準で推移した高機能製品部門と巻付け耐火被覆材をはじめとする非住宅部門の需要が堅調に推移した建材部門を中心に売上高が増加したため、当社グループの売上高は前連結会計年度に対し5.8％...</td>\n",
              "      <td>2</td>\n",
              "    </tr>\n",
              "    <tr>\n",
              "      <th>...</th>\n",
              "      <td>...</td>\n",
              "      <td>...</td>\n",
              "      <td>...</td>\n",
              "    </tr>\n",
              "    <tr>\n",
              "      <th>2808</th>\n",
              "      <td>2808</td>\n",
              "      <td>報告セグメントに含まれない不動産賃貸料の収入など、その他事業の当連結会計年度の売上高は 200百万円 (前年同期比 1.6％増)、営業利益は 51百万円 (前年同期比 26.1％増) となりました</td>\n",
              "      <td>2</td>\n",
              "    </tr>\n",
              "    <tr>\n",
              "      <th>2809</th>\n",
              "      <td>2809</td>\n",
              "      <td>以上の結果、当連結会計年度における売上高は3,711百万円（前年同期比0.7%減）となりました</td>\n",
              "      <td>1</td>\n",
              "    </tr>\n",
              "    <tr>\n",
              "      <th>2810</th>\n",
              "      <td>2810</td>\n",
              "      <td>に伴う人件費増加、研究開発部門での派遣技術者受入費用の増加などにより売上原価及び一般管理費が増加した結果</td>\n",
              "      <td>1</td>\n",
              "    </tr>\n",
              "    <tr>\n",
              "      <th>2811</th>\n",
              "      <td>2811</td>\n",
              "      <td>営業損益は工事採算の改善により前期を上回りました</td>\n",
              "      <td>2</td>\n",
              "    </tr>\n",
              "    <tr>\n",
              "      <th>2812</th>\n",
              "      <td>2812</td>\n",
              "      <td>当連結会計年度の投資・金融サービス業の営業収益は1,161百万円（前連結会計年度比18.1％減）、セグメント損失は115百万円（前連結会計年度は36百万円のセグメント損失）となりました</td>\n",
              "      <td>1</td>\n",
              "    </tr>\n",
              "  </tbody>\n",
              "</table>\n",
              "<p>2813 rows × 3 columns</p>\n",
              "</div>"
            ],
            "text/plain": [
              "        Id                                                                                                                     text  target\n",
              "0        0                                                                            建設用クレーン事業は、北米市場の低迷が長期化したことから、受注、売上ともに減少いたしました       1\n",
              "1        1                                                                                               この結果、売上高は前連結会計年度に比べて増加しました       2\n",
              "2        2                                                               セグメント利益は、電子部品向け金属粉の販売好調により、同186百万円増益（32.6％増益）の759百万円となりました       2\n",
              "3        3                                                                            建設工事業の売上高は、石油関連施設の受注物件の工事完工が順調に進んだことから前期を上回った       2\n",
              "4        4  このような状況の中、半導体製造装置向け製品の需要が高水準で推移した高機能製品部門と巻付け耐火被覆材をはじめとする非住宅部門の需要が堅調に推移した建材部門を中心に売上高が増加したため、当社グループの売上高は前連結会計年度に対し5.8％...       2\n",
              "...    ...                                                                                                                      ...     ...\n",
              "2808  2808                       報告セグメントに含まれない不動産賃貸料の収入など、その他事業の当連結会計年度の売上高は 200百万円 (前年同期比 1.6％増)、営業利益は 51百万円 (前年同期比 26.1％増) となりました       2\n",
              "2809  2809                                                                          以上の結果、当連結会計年度における売上高は3,711百万円（前年同期比0.7%減）となりました       1\n",
              "2810  2810                                                                     に伴う人件費増加、研究開発部門での派遣技術者受入費用の増加などにより売上原価及び一般管理費が増加した結果       1\n",
              "2811  2811                                                                                                 営業損益は工事採算の改善により前期を上回りました       2\n",
              "2812  2812                             当連結会計年度の投資・金融サービス業の営業収益は1,161百万円（前連結会計年度比18.1％減）、セグメント損失は115百万円（前連結会計年度は36百万円のセグメント損失）となりました       1\n",
              "\n",
              "[2813 rows x 3 columns]"
            ]
          },
          "execution_count": 10,
          "metadata": {},
          "output_type": "execute_result"
        }
      ],
      "source": [
        "\n",
        "df1 = pd.DataFrame({'text': neg})\n",
        "df1['target'] = 1\n",
        "df2 = pd.DataFrame({'text': pos})\n",
        "df2['target'] = 2\n",
        "\n",
        "df = pd.concat([df1, df2], axis=0, ignore_index=True)\n",
        "df = (df\n",
        "        .sample(frac=1, ignore_index=True, random_state=42)\n",
        "        .reset_index()\n",
        "        .rename(columns={'index': 'Id'}))\n",
        "df"
      ]
    },
    {
      "cell_type": "code",
      "execution_count": 11,
      "metadata": {
        "colab": {
          "base_uri": "https://localhost:8080/",
          "height": 452
        },
        "id": "vwJI3pJomzHU",
        "outputId": "d76780d4-7fa9-4baa-8026-233d38a0ab3c"
      },
      "outputs": [
        {
          "data": {
            "image/png": "[encoded data removed]",
            "text/plain": [
              "<Figure size 640x480 with 1 Axes>"
            ]
          },
          "metadata": {},
          "output_type": "display_data"
        }
      ],
      "source": [
        "text_lengths = df['text'].apply(len)\n",
        "plt.hist(text_lengths, bins=100)\n",
        "plt.title(f'Text Lengths; min:{text_lengths.min()}, max:{text_lengths.max()}');"
      ]
    },
    {
      "cell_type": "code",
      "execution_count": 12,
      "metadata": {
        "colab": {
          "base_uri": "https://localhost:8080/",
          "height": 614
        },
        "id": "KqNn-ZfimzJ5",
        "outputId": "0faf7673-b9b3-4cd6-d5ee-a476eaf26e3b"
      },
      "outputs": [
        {
          "data": {
            "text/html": [
              "<div>\n",
              "<style scoped>\n",
              "    .dataframe tbody tr th:only-of-type {\n",
              "        vertical-align: middle;\n",
              "    }\n",
              "\n",
              "    .dataframe tbody tr th {\n",
              "        vertical-align: top;\n",
              "    }\n",
              "\n",
              "    .dataframe thead th {\n",
              "        text-align: right;\n",
              "    }\n",
              "</style>\n",
              "<table border=\"1\" class=\"dataframe\">\n",
              "  <thead>\n",
              "    <tr style=\"text-align: right;\">\n",
              "      <th></th>\n",
              "      <th>Id</th>\n",
              "      <th>text</th>\n",
              "      <th>target</th>\n",
              "    </tr>\n",
              "  </thead>\n",
              "  <tbody>\n",
              "    <tr>\n",
              "      <th>29</th>\n",
              "      <td>29</td>\n",
              "      <td>電線市場では、自動車用は堅調に推移しました</td>\n",
              "      <td>2</td>\n",
              "    </tr>\n",
              "    <tr>\n",
              "      <th>122</th>\n",
              "      <td>122</td>\n",
              "      <td>一方、無機薬品関連は堅調に推移しました</td>\n",
              "      <td>2</td>\n",
              "    </tr>\n",
              "    <tr>\n",
              "      <th>258</th>\n",
              "      <td>258</td>\n",
              "      <td>その結果、品目全体でも前期を上回りました</td>\n",
              "      <td>2</td>\n",
              "    </tr>\n",
              "    <tr>\n",
              "      <th>1024</th>\n",
              "      <td>1024</td>\n",
              "      <td>国内においては堅調に推移しました</td>\n",
              "      <td>2</td>\n",
              "    </tr>\n",
              "    <tr>\n",
              "      <th>1157</th>\n",
              "      <td>1157</td>\n",
              "      <td>ＯＥＭ事業は減収となりました</td>\n",
              "      <td>1</td>\n",
              "    </tr>\n",
              "    <tr>\n",
              "      <th>1236</th>\n",
              "      <td>1236</td>\n",
              "      <td>製粉、化学薬品等の用途は数量を伸ばしました</td>\n",
              "      <td>2</td>\n",
              "    </tr>\n",
              "    <tr>\n",
              "      <th>1385</th>\n",
              "      <td>1385</td>\n",
              "      <td>電子材料は、ディスプレイ関連材料が低調でした</td>\n",
              "      <td>1</td>\n",
              "    </tr>\n",
              "    <tr>\n",
              "      <th>1519</th>\n",
              "      <td>1519</td>\n",
              "      <td>また、米国の需要は高水準で推移しました</td>\n",
              "      <td>2</td>\n",
              "    </tr>\n",
              "    <tr>\n",
              "      <th>1651</th>\n",
              "      <td>1651</td>\n",
              "      <td>中国も現地通貨ベースでは堅調に推移しました</td>\n",
              "      <td>2</td>\n",
              "    </tr>\n",
              "    <tr>\n",
              "      <th>1755</th>\n",
              "      <td>1755</td>\n",
              "      <td>住宅着工戸数は、米国・国内ともに増加しました</td>\n",
              "      <td>2</td>\n",
              "    </tr>\n",
              "    <tr>\n",
              "      <th>1889</th>\n",
              "      <td>1889</td>\n",
              "      <td>食品用包装材では受注減少の展開となりました</td>\n",
              "      <td>1</td>\n",
              "    </tr>\n",
              "    <tr>\n",
              "      <th>1948</th>\n",
              "      <td>1948</td>\n",
              "      <td>中国においては需要の伸びが顕著でした</td>\n",
              "      <td>2</td>\n",
              "    </tr>\n",
              "    <tr>\n",
              "      <th>2104</th>\n",
              "      <td>2104</td>\n",
              "      <td>市販事業は減収となりました</td>\n",
              "      <td>1</td>\n",
              "    </tr>\n",
              "    <tr>\n",
              "      <th>2539</th>\n",
              "      <td>2539</td>\n",
              "      <td>売上高は工事量の増加により前期を上回りました</td>\n",
              "      <td>2</td>\n",
              "    </tr>\n",
              "    <tr>\n",
              "      <th>2693</th>\n",
              "      <td>2693</td>\n",
              "      <td>米国も個人消費が景気を下支えしております</td>\n",
              "      <td>2</td>\n",
              "    </tr>\n",
              "    <tr>\n",
              "      <th>2723</th>\n",
              "      <td>2723</td>\n",
              "      <td>一方、国内総需要は過去最高となりました</td>\n",
              "      <td>2</td>\n",
              "    </tr>\n",
              "    <tr>\n",
              "      <th>2731</th>\n",
              "      <td>2731</td>\n",
              "      <td>より厳しい競争を余儀なくされています</td>\n",
              "      <td>1</td>\n",
              "    </tr>\n",
              "    <tr>\n",
              "      <th>2751</th>\n",
              "      <td>2751</td>\n",
              "      <td>投資が抑制された影響を強く受けました</td>\n",
              "      <td>1</td>\n",
              "    </tr>\n",
              "  </tbody>\n",
              "</table>\n",
              "</div>"
            ],
            "text/plain": [
              "        Id                    text  target\n",
              "29      29   電線市場では、自動車用は堅調に推移しました       2\n",
              "122    122     一方、無機薬品関連は堅調に推移しました       2\n",
              "258    258    その結果、品目全体でも前期を上回りました       2\n",
              "1024  1024        国内においては堅調に推移しました       2\n",
              "1157  1157          ＯＥＭ事業は減収となりました       1\n",
              "1236  1236   製粉、化学薬品等の用途は数量を伸ばしました       2\n",
              "1385  1385  電子材料は、ディスプレイ関連材料が低調でした       1\n",
              "1519  1519     また、米国の需要は高水準で推移しました       2\n",
              "1651  1651   中国も現地通貨ベースでは堅調に推移しました       2\n",
              "1755  1755  住宅着工戸数は、米国・国内ともに増加しました       2\n",
              "1889  1889   食品用包装材では受注減少の展開となりました       1\n",
              "1948  1948      中国においては需要の伸びが顕著でした       2\n",
              "2104  2104           市販事業は減収となりました       1\n",
              "2539  2539  売上高は工事量の増加により前期を上回りました       2\n",
              "2693  2693    米国も個人消費が景気を下支えしております       2\n",
              "2723  2723     一方、国内総需要は過去最高となりました       2\n",
              "2731  2731      より厳しい競争を余儀なくされています       1\n",
              "2751  2751      投資が抑制された影響を強く受けました       1"
            ]
          },
          "execution_count": 12,
          "metadata": {},
          "output_type": "execute_result"
        }
      ],
      "source": [
        "df[df['text'].apply(len) < text_lengths.min()+10]"
      ]
    },
    {
      "cell_type": "code",
      "execution_count": 13,
      "metadata": {
        "colab": {
          "base_uri": "https://localhost:8080/",
          "height": 288
        },
        "id": "8TIyRp5amzM2",
        "outputId": "8664096a-3de7-44ea-f94a-28726795ef76"
      },
      "outputs": [
        {
          "data": {
            "text/html": [
              "<div>\n",
              "<style scoped>\n",
              "    .dataframe tbody tr th:only-of-type {\n",
              "        vertical-align: middle;\n",
              "    }\n",
              "\n",
              "    .dataframe tbody tr th {\n",
              "        vertical-align: top;\n",
              "    }\n",
              "\n",
              "    .dataframe thead th {\n",
              "        text-align: right;\n",
              "    }\n",
              "</style>\n",
              "<table border=\"1\" class=\"dataframe\">\n",
              "  <thead>\n",
              "    <tr style=\"text-align: right;\">\n",
              "      <th></th>\n",
              "      <th>Id</th>\n",
              "      <th>text</th>\n",
              "      <th>target</th>\n",
              "    </tr>\n",
              "  </thead>\n",
              "  <tbody>\n",
              "    <tr>\n",
              "      <th>761</th>\n",
              "      <td>761</td>\n",
              "      <td>また、前連結会計年度においては、介護付有料老人ホーム４施設のセールアンドリースバック取引及びカラオケ機器の売却、土地の売却に伴い固定資産売却益が発生したことなどから特別利益として1,469,963千円を計上しておりましたが、当連結会...</td>\n",
              "      <td>1</td>\n",
              "    </tr>\n",
              "    <tr>\n",
              "      <th>2176</th>\n",
              "      <td>2176</td>\n",
              "      <td>受　注　高　　　　　　　　　　　１,４４３億７１百万円（前連結会計年度比　４．７％減）\\n　　　　売　上　高　　　　　　　　　　　１,３７２億２７百万円（前連結会計年度比　６．６％減）\\n　　　　営　業　利　益　　　 　　　　　　　...</td>\n",
              "      <td>1</td>\n",
              "    </tr>\n",
              "    <tr>\n",
              "      <th>2444</th>\n",
              "      <td>2444</td>\n",
              "      <td>ジェネリック医薬品業界におきましては、平成27年６月末に閣議決定された「経済財政運営と改革の基本方針2015（以下、骨太の方針2015）」において、ジェネリック医薬品の数量シェア目標として、「平成29年央に70％以上とするとともに平...</td>\n",
              "      <td>2</td>\n",
              "    </tr>\n",
              "    <tr>\n",
              "      <th>2518</th>\n",
              "      <td>2518</td>\n",
              "      <td>この結果、当連結会計年度における売上高は、リオ五輪等の影響でレンタル売上が軟調であった一方、台風や残暑の影響下でも堅調であったリユース商材と年末商戦や新型ゲーム機の発売等で新品商材の売上が寄与したことにより、268,079百万円（前...</td>\n",
              "      <td>1</td>\n",
              "    </tr>\n",
              "  </tbody>\n",
              "</table>\n",
              "</div>"
            ],
            "text/plain": [
              "        Id                                                                                                                     text  target\n",
              "761    761  また、前連結会計年度においては、介護付有料老人ホーム４施設のセールアンドリースバック取引及びカラオケ機器の売却、土地の売却に伴い固定資産売却益が発生したことなどから特別利益として1,469,963千円を計上しておりましたが、当連結会...       1\n",
              "2176  2176  受　注　高　　　　　　　　　　　１,４４３億７１百万円（前連結会計年度比　４．７％減）\\n　　　　売　上　高　　　　　　　　　　　１,３７２億２７百万円（前連結会計年度比　６．６％減）\\n　　　　営　業　利　益　　　 　　　　　　　...       1\n",
              "2444  2444  ジェネリック医薬品業界におきましては、平成27年６月末に閣議決定された「経済財政運営と改革の基本方針2015（以下、骨太の方針2015）」において、ジェネリック医薬品の数量シェア目標として、「平成29年央に70％以上とするとともに平...       2\n",
              "2518  2518  この結果、当連結会計年度における売上高は、リオ五輪等の影響でレンタル売上が軟調であった一方、台風や残暑の影響下でも堅調であったリユース商材と年末商戦や新型ゲーム機の発売等で新品商材の売上が寄与したことにより、268,079百万円（前...       1"
            ]
          },
          "execution_count": 13,
          "metadata": {},
          "output_type": "execute_result"
        }
      ],
      "source": [
        "df[df['text'].apply(len) >= text_lengths.max()-100]"
      ]
    },
    {
      "cell_type": "code",
      "execution_count": 14,
      "metadata": {
        "id": "nh6IQBabm0D0"
      },
      "outputs": [],
      "source": [
        "df.to_csv('D:\\\\full-stack\\\\nlp_miniproject\\\\chABSA_fsa.csv', index=False)\n",
        "df.to_pickle('D:\\\\full-stack\\\\nlp_miniproject\\\\chABSA_fsa.pickle')"
      ]
    },
    {
      "cell_type": "code",
      "execution_count": 23,
      "metadata": {
        "id": "JWdIfCjjm0Gm"
      },
      "outputs": [],
      "source": [
        "class CFG:\n",
        "    model_name_or_path = 'D:\\\\full-stack\\\\nlp_miniproject\\\\bert-base-japanese'\n",
        "    train_path = 'D:\\\\full-stack\\\\nlp_miniproject\\\\train.csv'\n",
        "    val_path = 'D:\\\\full-stack\\\\nlp_miniproject\\\\val.csv'\n",
        "    total_max_len = 512\n",
        "    batch_size = 8\n",
        "    accumulation_steps = 4\n",
        "    epochs = 15\n",
        "    debug = False\n",
        "    \n",
        "args = CFG"
      ]
    },
    {
      "cell_type": "code",
      "execution_count": 19,
      "metadata": {
        "colab": {
          "base_uri": "https://localhost:8080/"
        },
        "id": "fq3Q8KBlm0KR",
        "outputId": "947a88d2-1583-47a5-def0-6a703ca008eb"
      },
      "outputs": [
        {
          "name": "stdout",
          "output_type": "stream",
          "text": [
            "Requirement already satisfied: fugashi[unidic-lite] in c:\\python39\\lib\\site-packages (1.2.1)\n",
            "Requirement already satisfied: unidic-lite in c:\\python39\\lib\\site-packages (from fugashi[unidic-lite]) (1.0.8)\n"
          ]
        },
        {
          "name": "stderr",
          "output_type": "stream",
          "text": [
            "WARNING: Ignoring invalid distribution -p (c:\\python39\\lib\\site-packages)\n",
            "WARNING: Ignoring invalid distribution -p (c:\\python39\\lib\\site-packages)\n",
            "WARNING: Ignoring invalid distribution -ip (c:\\python39\\lib\\site-packages)\n",
            "WARNING: Ignoring invalid distribution - (c:\\python39\\lib\\site-packages)\n",
            "WARNING: Ignoring invalid distribution -p (c:\\python39\\lib\\site-packages)\n",
            "WARNING: Ignoring invalid distribution -p (c:\\python39\\lib\\site-packages)\n",
            "WARNING: Ignoring invalid distribution -ip (c:\\python39\\lib\\site-packages)\n",
            "WARNING: Ignoring invalid distribution - (c:\\python39\\lib\\site-packages)\n",
            "WARNING: Ignoring invalid distribution -p (c:\\python39\\lib\\site-packages)\n",
            "WARNING: Ignoring invalid distribution -p (c:\\python39\\lib\\site-packages)\n",
            "WARNING: Ignoring invalid distribution -ip (c:\\python39\\lib\\site-packages)\n",
            "WARNING: Ignoring invalid distribution - (c:\\python39\\lib\\site-packages)\n",
            "WARNING: Ignoring invalid distribution -p (c:\\python39\\lib\\site-packages)\n",
            "WARNING: Ignoring invalid distribution -p (c:\\python39\\lib\\site-packages)\n",
            "WARNING: Ignoring invalid distribution -ip (c:\\python39\\lib\\site-packages)\n",
            "WARNING: Ignoring invalid distribution - (c:\\python39\\lib\\site-packages)\n",
            "\n",
            "[notice] A new release of pip is available: 23.0.1 -> 23.1.2\n",
            "[notice] To update, run: python.exe -m pip install --upgrade pip\n"
          ]
        },
        {
          "name": "stdout",
          "output_type": "stream",
          "text": [
            "Requirement already satisfied: ipadic in c:\\python39\\lib\\site-packages (1.0.0)\n"
          ]
        },
        {
          "name": "stderr",
          "output_type": "stream",
          "text": [
            "WARNING: Ignoring invalid distribution -p (c:\\python39\\lib\\site-packages)\n",
            "WARNING: Ignoring invalid distribution -p (c:\\python39\\lib\\site-packages)\n",
            "WARNING: Ignoring invalid distribution -ip (c:\\python39\\lib\\site-packages)\n",
            "WARNING: Ignoring invalid distribution - (c:\\python39\\lib\\site-packages)\n",
            "WARNING: Ignoring invalid distribution -p (c:\\python39\\lib\\site-packages)\n",
            "WARNING: Ignoring invalid distribution -p (c:\\python39\\lib\\site-packages)\n",
            "WARNING: Ignoring invalid distribution -ip (c:\\python39\\lib\\site-packages)\n",
            "WARNING: Ignoring invalid distribution - (c:\\python39\\lib\\site-packages)\n",
            "WARNING: Ignoring invalid distribution -p (c:\\python39\\lib\\site-packages)\n",
            "WARNING: Ignoring invalid distribution -p (c:\\python39\\lib\\site-packages)\n",
            "WARNING: Ignoring invalid distribution -ip (c:\\python39\\lib\\site-packages)\n",
            "WARNING: Ignoring invalid distribution - (c:\\python39\\lib\\site-packages)\n",
            "WARNING: Ignoring invalid distribution -p (c:\\python39\\lib\\site-packages)\n",
            "WARNING: Ignoring invalid distribution -p (c:\\python39\\lib\\site-packages)\n",
            "WARNING: Ignoring invalid distribution -ip (c:\\python39\\lib\\site-packages)\n",
            "WARNING: Ignoring invalid distribution - (c:\\python39\\lib\\site-packages)\n",
            "\n",
            "[notice] A new release of pip is available: 23.0.1 -> 23.1.2\n",
            "[notice] To update, run: python.exe -m pip install --upgrade pip\n"
          ]
        }
      ],
      "source": [
        "!pip install fugashi[unidic-lite]\n",
        "!pip install ipadic"
      ]
    },
    {
      "cell_type": "code",
      "execution_count": 21,
      "metadata": {
        "id": "pUj9Jp45T0IP"
      },
      "outputs": [
        {
          "name": "stdout",
          "output_type": "stream",
          "text": [
            "Collecting tqdm\n",
            "  Downloading tqdm-4.65.0-py3-none-any.whl (77 kB)\n",
            "     ---------------------------------------- 0.0/77.1 kB ? eta -:--:--\n",
            "     --------------- ------------------------ 30.7/77.1 kB 1.4 MB/s eta 0:00:01\n",
            "     ----------------------------------- -- 71.7/77.1 kB 660.6 kB/s eta 0:00:01\n",
            "     -------------------------------------- 77.1/77.1 kB 613.3 kB/s eta 0:00:00\n",
            "Requirement already satisfied: colorama in c:\\python39\\lib\\site-packages (from tqdm) (0.4.4)\n",
            "Installing collected packages: tqdm\n"
          ]
        },
        {
          "name": "stderr",
          "output_type": "stream",
          "text": [
            "WARNING: Ignoring invalid distribution -p (c:\\python39\\lib\\site-packages)\n",
            "WARNING: Ignoring invalid distribution -p (c:\\python39\\lib\\site-packages)\n",
            "WARNING: Ignoring invalid distribution -ip (c:\\python39\\lib\\site-packages)\n",
            "WARNING: Ignoring invalid distribution - (c:\\python39\\lib\\site-packages)\n",
            "WARNING: Ignoring invalid distribution -p (c:\\python39\\lib\\site-packages)\n",
            "WARNING: Ignoring invalid distribution -p (c:\\python39\\lib\\site-packages)\n",
            "WARNING: Ignoring invalid distribution -ip (c:\\python39\\lib\\site-packages)\n",
            "WARNING: Ignoring invalid distribution - (c:\\python39\\lib\\site-packages)\n",
            "WARNING: Ignoring invalid distribution -p (c:\\python39\\lib\\site-packages)\n",
            "WARNING: Ignoring invalid distribution -p (c:\\python39\\lib\\site-packages)\n",
            "WARNING: Ignoring invalid distribution -ip (c:\\python39\\lib\\site-packages)\n",
            "WARNING: Ignoring invalid distribution - (c:\\python39\\lib\\site-packages)\n",
            "  WARNING: Failed to write executable - trying to use .deleteme logic\n",
            "ERROR: Could not install packages due to an OSError: [WinError 2] The system cannot find the file specified: 'C:\\\\Python39\\\\Scripts\\\\tqdm.exe' -> 'C:\\\\Python39\\\\Scripts\\\\tqdm.exe.deleteme'\n",
            "\n",
            "WARNING: Ignoring invalid distribution -p (c:\\python39\\lib\\site-packages)\n",
            "WARNING: Ignoring invalid distribution -p (c:\\python39\\lib\\site-packages)\n",
            "WARNING: Ignoring invalid distribution -ip (c:\\python39\\lib\\site-packages)\n",
            "WARNING: Ignoring invalid distribution - (c:\\python39\\lib\\site-packages)\n",
            "\n",
            "[notice] A new release of pip is available: 23.0.1 -> 23.1.2\n",
            "[notice] To update, run: python.exe -m pip install --upgrade pip\n"
          ]
        }
      ],
      "source": [
        "!pip install tqdm"
      ]
    },
    {
      "cell_type": "code",
      "execution_count": 24,
      "metadata": {
        "id": "SfOlswvvm0MJ"
      },
      "outputs": [],
      "source": [
        "import json\n",
        "from pathlib import Path\n",
        "import numpy as np\n",
        "import pandas as pd\n",
        "from scipy import sparse\n",
        "from tqdm import tqdm\n",
        "import os\n",
        "\n",
        "# data_dir = Path('../input/chabsa-for-sentiment-analysis')\n",
        "\n",
        "# if not os.path.exists(\"./data\"):\n",
        "#     os.mkdir(\"./data\")\n",
        "\n",
        "df = pd.read_csv('D:\\\\full-stack\\\\nlp_miniproject\\\\chABSA_fsa.csv')\n",
        "\n",
        "# negative: 1 -> 0, positive: 2 -> 1\n",
        "binary_dict = {1:0, 2:1}\n",
        "df['target'] = df['target'].apply(lambda x: binary_dict[x]).astype('float')\n",
        "\n",
        "\n",
        "from sklearn.model_selection import ShuffleSplit\n",
        "\n",
        "NVALID = 0.1  # size of validation set\n",
        "splitter = ShuffleSplit(n_splits=1, test_size=NVALID, random_state=0)\n",
        "train_ind, val_ind = next(splitter.split(df))\n",
        "train_df = df.loc[train_ind].reset_index(drop=True)\n",
        "val_df = df.loc[val_ind].reset_index(drop=True)\n",
        "\n",
        "# Base markdown dataframes\n",
        "val_df.to_csv(\"D:\\\\full-stack\\\\nlp_miniproject\\\\val.csv\", index=False)\n",
        "train_df.to_csv(\"D:\\\\full-stack\\\\nlp_miniproject\\\\train.csv\", index=False)"
      ]
    },
    {
      "cell_type": "code",
      "execution_count": null,
      "metadata": {
        "id": "Ka7TkMrqWiiJ"
      },
      "outputs": [],
      "source": []
    },
    {
      "cell_type": "code",
      "execution_count": 25,
      "metadata": {
        "colab": {
          "base_uri": "https://localhost:8080/",
          "height": 589
        },
        "id": "k5_V7LtOWw0y",
        "outputId": "727fef2f-4c30-4680-bd54-4e8fd2b46544"
      },
      "outputs": [
        {
          "data": {
            "text/html": [
              "<div>\n",
              "<style scoped>\n",
              "    .dataframe tbody tr th:only-of-type {\n",
              "        vertical-align: middle;\n",
              "    }\n",
              "\n",
              "    .dataframe tbody tr th {\n",
              "        vertical-align: top;\n",
              "    }\n",
              "\n",
              "    .dataframe thead th {\n",
              "        text-align: right;\n",
              "    }\n",
              "</style>\n",
              "<table border=\"1\" class=\"dataframe\">\n",
              "  <thead>\n",
              "    <tr style=\"text-align: right;\">\n",
              "      <th></th>\n",
              "      <th>Id</th>\n",
              "      <th>text</th>\n",
              "      <th>target</th>\n",
              "    </tr>\n",
              "  </thead>\n",
              "  <tbody>\n",
              "    <tr>\n",
              "      <th>0</th>\n",
              "      <td>0</td>\n",
              "      <td>30811.930516.367(51.0)\\n</td>\n",
              "      <td>0</td>\n",
              "    </tr>\n",
              "    <tr>\n",
              "      <th>1</th>\n",
              "      <td>1</td>\n",
              "      <td>2462.7\\n</td>\n",
              "      <td>1</td>\n",
              "    </tr>\n",
              "    <tr>\n",
              "      <th>2</th>\n",
              "      <td>2</td>\n",
              "      <td>2,626112.94517.1\\n</td>\n",
              "      <td>1</td>\n",
              "    </tr>\n",
              "    <tr>\n",
              "      <th>3</th>\n",
              "      <td>3</td>\n",
              "      <td>5,790,47827.4\\n</td>\n",
              "      <td>1</td>\n",
              "    </tr>\n",
              "    <tr>\n",
              "      <th>4</th>\n",
              "      <td>4</td>\n",
              "      <td>19.5\\n</td>\n",
              "      <td>0</td>\n",
              "    </tr>\n",
              "    <tr>\n",
              "      <th>...</th>\n",
              "      <td>...</td>\n",
              "      <td>...</td>\n",
              "      <td>...</td>\n",
              "    </tr>\n",
              "    <tr>\n",
              "      <th>2825</th>\n",
              "      <td>2825</td>\n",
              "      <td>\\n</td>\n",
              "      <td>1</td>\n",
              "    </tr>\n",
              "    <tr>\n",
              "      <th>2826</th>\n",
              "      <td>2826</td>\n",
              "      <td>14(93.6)(96.6)5151(50)\\n</td>\n",
              "      <td>0</td>\n",
              "    </tr>\n",
              "    <tr>\n",
              "      <th>2827</th>\n",
              "      <td>2827</td>\n",
              "      <td>4,7012525.1\\n</td>\n",
              "      <td>0</td>\n",
              "    </tr>\n",
              "    <tr>\n",
              "      <th>2828</th>\n",
              "      <td>2828</td>\n",
              "      <td>503144,007\\n</td>\n",
              "      <td>1</td>\n",
              "    </tr>\n",
              "    <tr>\n",
              "      <th>2829</th>\n",
              "      <td>2829</td>\n",
              "      <td>2,4513.13,15341.9701155695162721145\\n</td>\n",
              "      <td>0</td>\n",
              "    </tr>\n",
              "  </tbody>\n",
              "</table>\n",
              "<p>2830 rows × 3 columns</p>\n",
              "</div>"
            ],
            "text/plain": [
              "        Id                                   text  target\n",
              "0        0               30811.930516.367(51.0)\\n       0\n",
              "1        1                               2462.7\\n       1\n",
              "2        2                     2,626112.94517.1\\n       1\n",
              "3        3                        5,790,47827.4\\n       1\n",
              "4        4                                 19.5\\n       0\n",
              "...    ...                                    ...     ...\n",
              "2825  2825                                     \\n       1\n",
              "2826  2826               14(93.6)(96.6)5151(50)\\n       0\n",
              "2827  2827                          4,7012525.1\\n       0\n",
              "2828  2828                           503144,007\\n       1\n",
              "2829  2829  2,4513.13,15341.9701155695162721145\\n       0\n",
              "\n",
              "[2830 rows x 3 columns]"
            ]
          },
          "execution_count": 25,
          "metadata": {},
          "output_type": "execute_result"
        }
      ],
      "source": [
        "with open('D:\\\\full-stack\\\\nlp_miniproject\\\\neg.txt','r') as f:\n",
        "  neg = f.readlines()\n",
        "  \n",
        "with open('D:\\\\full-stack\\\\nlp_miniproject\\\\pos.txt','r') as f:\n",
        "  pos = f.readlines()\n",
        "\n",
        "# here 0 is for negative sentences...\n",
        "df1 = pd.DataFrame({'text': neg})\n",
        "df1['target'] = 0\n",
        "\n",
        "# here 1 is for positive sentences...\n",
        "df2 = pd.DataFrame({'text': pos})\n",
        "df2['target'] = 1\n",
        "\n",
        "\n",
        "test_df = pd.concat([df1, df2], axis=0, ignore_index=True)\n",
        "test_df = (test_df\n",
        "        .sample(frac=1, ignore_index=True, random_state=42)\n",
        "        .reset_index()\n",
        "        .rename(columns={'index': 'Id'}))\n",
        "test_df"
      ]
    },
    {
      "cell_type": "code",
      "execution_count": 26,
      "metadata": {
        "colab": {
          "base_uri": "https://localhost:8080/",
          "height": 458
        },
        "id": "yO3YclvQW65X",
        "outputId": "10ae59ad-d354-4d25-eb21-532b6afcb3c6"
      },
      "outputs": [
        {
          "data": {
            "text/plain": [
              "1    1677\n",
              "0    1153\n",
              "Name: target, dtype: int64"
            ]
          },
          "metadata": {},
          "output_type": "display_data"
        },
        {
          "data": {
            "image/png": "[encoded data removed]",
            "text/plain": [
              "<Figure size 640x480 with 1 Axes>"
            ]
          },
          "metadata": {},
          "output_type": "display_data"
        }
      ],
      "source": [
        "s = test_df['target'].value_counts()\n",
        "display(s)\n",
        "plt.pie(s, labels=['1:positive', '0:negative']);"
      ]
    },
    {
      "cell_type": "code",
      "execution_count": 27,
      "metadata": {
        "colab": {
          "base_uri": "https://localhost:8080/"
        },
        "id": "Xg14Nq_7cDjw",
        "outputId": "fa2df4a9-f889-4848-a08e-929fffa21ead"
      },
      "outputs": [
        {
          "name": "stderr",
          "output_type": "stream",
          "text": [
            "C:\\Users\\sonal\\AppData\\Local\\Temp\\ipykernel_14400\\3850087582.py:4: UserWarning: Boolean Series key will be reindexed to match DataFrame index.\n",
            "  indices = df[mask].index.to_list()\n"
          ]
        }
      ],
      "source": [
        "import pandas as pd\n",
        "import random\n",
        "mask = test_df['target'] == 1\n",
        "indices = df[mask].index.to_list()\n"
      ]
    },
    {
      "cell_type": "code",
      "execution_count": 28,
      "metadata": {
        "id": "nimuRl4db4Qj"
      },
      "outputs": [],
      "source": [
        "rows_to_drop = random.sample(list(indices), s[1]-s[0] )\n",
        "test_df.drop(rows_to_drop,inplace=True)"
      ]
    },
    {
      "cell_type": "code",
      "execution_count": null,
      "metadata": {
        "id": "0gNwkANdbwQD"
      },
      "outputs": [],
      "source": []
    },
    {
      "cell_type": "code",
      "execution_count": 29,
      "metadata": {
        "id": "795Zgd60Wm5v"
      },
      "outputs": [],
      "source": [
        "import pandas as pd\n",
        "import random\n",
        "mask = df['target'] == 1\n",
        "indices = df[mask].index.to_list()"
      ]
    },
    {
      "cell_type": "code",
      "execution_count": 30,
      "metadata": {
        "colab": {
          "base_uri": "https://localhost:8080/",
          "height": 458
        },
        "id": "KbIB9k1UV2nY",
        "outputId": "4a991594-bf21-4378-8242-8f307fc07b60"
      },
      "outputs": [
        {
          "data": {
            "text/plain": [
              "0    1153\n",
              "1    1153\n",
              "Name: target, dtype: int64"
            ]
          },
          "metadata": {},
          "output_type": "display_data"
        },
        {
          "data": {
            "image/png": "[encoded data removed]",
            "text/plain": [
              "<Figure size 640x480 with 1 Axes>"
            ]
          },
          "metadata": {},
          "output_type": "display_data"
        }
      ],
      "source": [
        "s = test_df['target'].value_counts()\n",
        "display(s)\n",
        "plt.pie(s, labels=['1:positive', '0:negative']);"
      ]
    },
    {
      "cell_type": "code",
      "execution_count": 31,
      "metadata": {
        "colab": {
          "base_uri": "https://localhost:8080/"
        },
        "id": "nqo43eugT1Q5",
        "outputId": "7b94b692-c4a6-4847-b71f-be8f3aecd0a5"
      },
      "outputs": [
        {
          "name": "stdout",
          "output_type": "stream",
          "text": [
            "Epoch 1/40\n",
            "29/29 [==============================] - 12s 181ms/step - loss: 0.6953 - accuracy: 0.4832 - val_loss: 0.6929 - val_accuracy: 0.5173\n",
            "Epoch 2/40\n",
            "29/29 [==============================] - 4s 143ms/step - loss: 0.6934 - accuracy: 0.4902 - val_loss: 0.6933 - val_accuracy: 0.4827\n",
            "Epoch 3/40\n",
            "29/29 [==============================] - 5s 159ms/step - loss: 0.6931 - accuracy: 0.5043 - val_loss: 0.6938 - val_accuracy: 0.4827\n",
            "Epoch 4/40\n",
            "29/29 [==============================] - 4s 152ms/step - loss: 0.6921 - accuracy: 0.5065 - val_loss: 0.6894 - val_accuracy: 0.5390\n",
            "Epoch 5/40\n",
            "29/29 [==============================] - 4s 148ms/step - loss: 0.6252 - accuracy: 0.6773 - val_loss: 0.7149 - val_accuracy: 0.5238\n",
            "Epoch 6/40\n",
            "29/29 [==============================] - 4s 144ms/step - loss: 0.4247 - accuracy: 0.7679 - val_loss: 0.7856 - val_accuracy: 0.4978\n",
            "Epoch 7/40\n",
            "29/29 [==============================] - 4s 147ms/step - loss: 0.3649 - accuracy: 0.7787 - val_loss: 0.7837 - val_accuracy: 0.5152\n",
            "Epoch 8/40\n",
            "29/29 [==============================] - 4s 145ms/step - loss: 0.3616 - accuracy: 0.7619 - val_loss: 0.7946 - val_accuracy: 0.5130\n",
            "Epoch 9/40\n",
            "29/29 [==============================] - 4s 151ms/step - loss: 0.3648 - accuracy: 0.7570 - val_loss: 0.8382 - val_accuracy: 0.5260\n",
            "Epoch 00009: early stopping\n",
            "15/15 [==============================] - 0s 16ms/step - loss: 0.8382 - accuracy: 0.5260\n",
            "Test accuracy: 0.5259740352630615\n"
          ]
        }
      ],
      "source": [
        "from keras.preprocessing.text import Tokenizer\n",
        "from tensorflow.keras.preprocessing.sequence import pad_sequences\n",
        "from sklearn.model_selection import train_test_split\n",
        "from keras.models import Sequential\n",
        "from keras.layers import Embedding, LSTM, Dense\n",
        "from keras.callbacks import EarlyStopping\n",
        "\n",
        "# Get the input sentences and sentiment labels\n",
        "sentences = test_df[\"text\"]\n",
        "labels = test_df[\"target\"]\n",
        "\n",
        "# Tokenize the input sentences\n",
        "tokenizer = Tokenizer()\n",
        "tokenizer.fit_on_texts(sentences)\n",
        "sequences = tokenizer.texts_to_sequences(sentences)\n",
        "\n",
        "# Pad the sequences to the same length\n",
        "max_length = max([len(seq) for seq in sequences])\n",
        "padded_sequences = pad_sequences(sequences, maxlen=max_length, padding=\"post\")\n",
        "\n",
        "# Split the dataset into training and testing sets\n",
        "X_train, X_test, y_train, y_test = train_test_split(padded_sequences, labels, test_size=0.2, random_state=42)\n",
        "\n",
        "# Define the model architecture\n",
        "model = Sequential()\n",
        "model.add(Embedding(input_dim=len(tokenizer.word_index)+1, output_dim=128, input_length=max_length))\n",
        "model.add(LSTM(128, dropout=0.2, recurrent_dropout=0.2))\n",
        "model.add(Dense(1, activation=\"sigmoid\"))\n",
        "\n",
        "# Compile the model\n",
        "model.compile(loss=\"binary_crossentropy\", optimizer=\"adam\", metrics=[\"accuracy\"])\n",
        "\n",
        "# Train the model\n",
        "early_stopping = EarlyStopping(patience=5, verbose=1)\n",
        "model.fit(X_train, y_train, validation_data=(X_test, y_test), epochs=40, batch_size=64, \n",
        "          callbacks=[early_stopping]\n",
        "          )\n",
        "\n",
        "# Evaluate the model\n",
        "loss, accuracy = model.evaluate(X_test, y_test, verbose=1)\n",
        "print(\"Test accuracy:\", accuracy)"
      ]
    },
    {
      "cell_type": "code",
      "execution_count": 32,
      "metadata": {
        "id": "jMiB6AWZfJVW"
      },
      "outputs": [],
      "source": [
        "X=test_df['text']\n",
        "y=test_df['target']"
      ]
    },
    {
      "cell_type": "code",
      "execution_count": 33,
      "metadata": {
        "colab": {
          "base_uri": "https://localhost:8080/"
        },
        "id": "XN42jUXMe1Uz",
        "outputId": "d5bb40fa-6f1a-4392-8090-d8808a32c84d"
      },
      "outputs": [
        {
          "name": "stdout",
          "output_type": "stream",
          "text": [
            "Accuracy: 0.5151515151515151\n"
          ]
        }
      ],
      "source": [
        "import pandas as pd\n",
        "from sklearn.feature_extraction.text import TfidfVectorizer\n",
        "from sklearn.model_selection import train_test_split\n",
        "from sklearn.linear_model import LogisticRegression\n",
        "from sklearn.metrics import accuracy_score\n",
        "\n",
        "\n",
        "\n",
        "# Split the dataset into training and testing sets\n",
        "X_train, X_test, y_train, y_test = train_test_split(X, y, test_size=0.2, random_state=42)\n",
        "\n",
        "# Vectorize the text using TF-IDF\n",
        "vectorizer = TfidfVectorizer()\n",
        "X_train_vec = vectorizer.fit_transform(X_train)\n",
        "X_test_vec = vectorizer.transform(X_test)\n",
        "\n",
        "# Train a logistic regression model\n",
        "model = LogisticRegression()\n",
        "model.fit(X_train_vec, y_train)\n",
        "\n",
        "# Evaluate the model\n",
        "y_pred = model.predict(X_test_vec)\n",
        "accuracy = accuracy_score(y_test, y_pred)\n",
        "print('Accuracy:', accuracy)\n",
        "\n"
      ]
    },
    {
      "cell_type": "code",
      "execution_count": 34,
      "metadata": {
        "colab": {
          "base_uri": "https://localhost:8080/"
        },
        "id": "mgtir_eVfr9O",
        "outputId": "ba48747c-1831-4acc-9b33-820c8a3b9343"
      },
      "outputs": [
        {
          "name": "stdout",
          "output_type": "stream",
          "text": [
            "Epoch 1/100\n",
            "29/29 [==============================] - 3s 53ms/step - loss: 0.6944 - accuracy: 0.5049 - val_loss: 0.6923 - val_accuracy: 0.5346\n",
            "Epoch 2/100\n",
            "29/29 [==============================] - 1s 38ms/step - loss: 0.6834 - accuracy: 0.5483 - val_loss: 0.6915 - val_accuracy: 0.5022\n",
            "Epoch 3/100\n",
            "29/29 [==============================] - 1s 41ms/step - loss: 0.5949 - accuracy: 0.6898 - val_loss: 0.7121 - val_accuracy: 0.5368\n",
            "Epoch 4/100\n",
            "29/29 [==============================] - 1s 37ms/step - loss: 0.4037 - accuracy: 0.7636 - val_loss: 0.8392 - val_accuracy: 0.5087\n",
            "Epoch 5/100\n",
            "29/29 [==============================] - 1s 33ms/step - loss: 0.3486 - accuracy: 0.7668 - val_loss: 0.9287 - val_accuracy: 0.5152\n",
            "Epoch 6/100\n",
            "29/29 [==============================] - 1s 34ms/step - loss: 0.3419 - accuracy: 0.7717 - val_loss: 0.8907 - val_accuracy: 0.4935\n",
            "Epoch 7/100\n",
            "29/29 [==============================] - 1s 47ms/step - loss: 0.3319 - accuracy: 0.7722 - val_loss: 0.9323 - val_accuracy: 0.5195\n",
            "Epoch 00007: early stopping\n",
            "15/15 [==============================] - 0s 9ms/step - loss: 0.9323 - accuracy: 0.5195\n",
            "Test accuracy: 0.5194805264472961\n"
          ]
        }
      ],
      "source": [
        "#cnn code ....\n",
        "#CNN\n",
        "from keras.layers import Conv1D\n",
        "from keras.layers import GlobalMaxPooling1D\n",
        "# Get the input sentences and sentiment labels\n",
        "sentences = test_df[\"text\"]\n",
        "labels = test_df[\"target\"]\n",
        "\n",
        "# Tokenize the input sentences\n",
        "tokenizer = Tokenizer()\n",
        "tokenizer.fit_on_texts(sentences)\n",
        "sequences = tokenizer.texts_to_sequences(sentences)\n",
        "\n",
        "# Pad the sequences to the same length\n",
        "max_length = max([len(seq) for seq in sequences])\n",
        "padded_sequences = pad_sequences(sequences, maxlen=max_length, padding=\"post\")\n",
        "\n",
        "# Split the dataset into training and testing sets\n",
        "X_train, X_test, y_train, y_test = train_test_split(padded_sequences, labels, test_size=0.2, random_state=42)\n",
        "\n",
        "# Define the model architecture\n",
        "model = Sequential()\n",
        "model.add(Embedding(input_dim=len(tokenizer.word_index)+1, output_dim=128, input_length=max_length))\n",
        "model.add(Conv1D(filters=128, kernel_size=5, activation='relu'))\n",
        "model.add(GlobalMaxPooling1D())\n",
        "model.add(Dense(256, activation='relu')) \n",
        "model.add(Dense(1, activation=\"sigmoid\"))\n",
        "\n",
        "# Compile the model\n",
        "model.compile(loss=\"binary_crossentropy\", optimizer=\"adam\", metrics=[\"accuracy\"])\n",
        "\n",
        "# Train the model\n",
        "early_stopping = EarlyStopping(patience=5, verbose=1)\n",
        "model.fit(X_train, y_train, validation_data=(X_test, y_test), epochs=100, batch_size=64, \n",
        "          callbacks=[early_stopping]\n",
        "          )\n",
        "\n",
        "# Evaluate the model\n",
        "loss, accuracy = model.evaluate(X_test, y_test, verbose=1)\n",
        "print(\"Test accuracy:\", accuracy)"
      ]
    },
    {
      "cell_type": "code",
      "execution_count": 37,
      "metadata": {
        "colab": {
          "base_uri": "https://localhost:8080/"
        },
        "id": "u0NawkT-mePK",
        "outputId": "8629e347-7f35-4516-ada5-77c7fe86a50b"
      },
      "outputs": [
        {
          "name": "stdout",
          "output_type": "stream",
          "text": [
            "Collecting transformers\n",
            "  Using cached transformers-4.29.2-py3-none-any.whl (7.1 MB)\n",
            "Requirement already satisfied: packaging>=20.0 in c:\\python39\\lib\\site-packages (from transformers) (21.3)\n",
            "Requirement already satisfied: filelock in c:\\python39\\lib\\site-packages (from transformers) (3.6.0)\n",
            "Requirement already satisfied: numpy>=1.17 in c:\\users\\sonal\\appdata\\roaming\\python\\python39\\site-packages (from transformers) (1.22.1)\n",
            "Requirement already satisfied: requests in c:\\python39\\lib\\site-packages (from transformers) (2.26.0)\n",
            "Requirement already satisfied: tokenizers!=0.11.3,<0.14,>=0.11.1 in c:\\python39\\lib\\site-packages (from transformers) (0.13.3)\n",
            "Requirement already satisfied: regex!=2019.12.17 in c:\\python39\\lib\\site-packages (from transformers) (2023.5.5)\n",
            "Requirement already satisfied: huggingface-hub<1.0,>=0.14.1 in c:\\python39\\lib\\site-packages (from transformers) (0.14.1)\n",
            "Requirement already satisfied: tqdm>=4.27 in c:\\python39\\lib\\site-packages (from transformers) (4.65.0)\n",
            "Requirement already satisfied: pyyaml>=5.1 in c:\\python39\\lib\\site-packages (from transformers) (6.0)\n",
            "Requirement already satisfied: fsspec in c:\\python39\\lib\\site-packages (from huggingface-hub<1.0,>=0.14.1->transformers) (2023.5.0)\n",
            "Requirement already satisfied: typing-extensions>=3.7.4.3 in c:\\python39\\lib\\site-packages (from huggingface-hub<1.0,>=0.14.1->transformers) (4.0.1)\n",
            "Requirement already satisfied: pyparsing!=3.0.5,>=2.0.2 in c:\\python39\\lib\\site-packages (from packaging>=20.0->transformers) (3.0.8)\n",
            "Requirement already satisfied: colorama in c:\\python39\\lib\\site-packages (from tqdm>=4.27->transformers) (0.4.4)\n",
            "Requirement already satisfied: urllib3<1.27,>=1.21.1 in c:\\python39\\lib\\site-packages (from requests->transformers) (1.26.7)\n",
            "Requirement already satisfied: charset-normalizer~=2.0.0 in c:\\python39\\lib\\site-packages (from requests->transformers) (2.0.6)\n",
            "Requirement already satisfied: idna<4,>=2.5 in c:\\python39\\lib\\site-packages (from requests->transformers) (3.2)\n",
            "Requirement already satisfied: certifi>=2017.4.17 in c:\\python39\\lib\\site-packages (from requests->transformers) (2021.10.8)\n",
            "Installing collected packages: transformers\n"
          ]
        },
        {
          "name": "stderr",
          "output_type": "stream",
          "text": [
            "WARNING: Ignoring invalid distribution -p (c:\\python39\\lib\\site-packages)\n",
            "WARNING: Ignoring invalid distribution -p (c:\\python39\\lib\\site-packages)\n",
            "WARNING: Ignoring invalid distribution -ip (c:\\python39\\lib\\site-packages)\n",
            "WARNING: Ignoring invalid distribution - (c:\\python39\\lib\\site-packages)\n",
            "WARNING: Ignoring invalid distribution -p (c:\\python39\\lib\\site-packages)\n",
            "WARNING: Ignoring invalid distribution -p (c:\\python39\\lib\\site-packages)\n",
            "WARNING: Ignoring invalid distribution -ip (c:\\python39\\lib\\site-packages)\n",
            "WARNING: Ignoring invalid distribution - (c:\\python39\\lib\\site-packages)\n",
            "WARNING: Ignoring invalid distribution -p (c:\\python39\\lib\\site-packages)\n",
            "WARNING: Ignoring invalid distribution -p (c:\\python39\\lib\\site-packages)\n",
            "WARNING: Ignoring invalid distribution -ip (c:\\python39\\lib\\site-packages)\n",
            "WARNING: Ignoring invalid distribution - (c:\\python39\\lib\\site-packages)\n",
            "  WARNING: Failed to write executable - trying to use .deleteme logic\n",
            "ERROR: Could not install packages due to an OSError: [WinError 2] The system cannot find the file specified: 'C:\\\\Python39\\\\Scripts\\\\transformers-cli.exe' -> 'C:\\\\Python39\\\\Scripts\\\\transformers-cli.exe.deleteme'\n",
            "\n",
            "WARNING: Ignoring invalid distribution -p (c:\\python39\\lib\\site-packages)\n",
            "WARNING: Ignoring invalid distribution -p (c:\\python39\\lib\\site-packages)\n",
            "WARNING: Ignoring invalid distribution -ip (c:\\python39\\lib\\site-packages)\n",
            "WARNING: Ignoring invalid distribution - (c:\\python39\\lib\\site-packages)\n",
            "\n",
            "[notice] A new release of pip is available: 23.0.1 -> 23.1.2\n",
            "[notice] To update, run: python.exe -m pip install --upgrade pip\n"
          ]
        }
      ],
      "source": [
        "!pip install transformers"
      ]
    },
    {
      "cell_type": "code",
      "execution_count": 38,
      "metadata": {
        "id": "ElB5I9o_meSG"
      },
      "outputs": [],
      "source": [
        "from torch.utils.data import DataLoader, Dataset\n",
        "import torch\n",
        "from transformers import AutoTokenizer\n",
        "\n",
        "class chABSADataset(Dataset):\n",
        "\n",
        "    def __init__(self, df, model_name_or_path, total_max_len):\n",
        "        super().__init__()\n",
        "        self.df = df.reset_index(drop=True)\n",
        "        self.total_max_len = total_max_len  # maxlen allowed by model config\n",
        "        self.tokenizer = AutoTokenizer.from_pretrained(model_name_or_path)\n",
        "\n",
        "    def __getitem__(self, index):\n",
        "        row = self.df.iloc[index]\n",
        "\n",
        "        inputs = self.tokenizer.encode_plus(\n",
        "            row['text'],\n",
        "            None,\n",
        "            add_special_tokens=True,\n",
        "            max_length=self.total_max_len,\n",
        "            padding=\"max_length\",\n",
        "            return_token_type_ids=True,\n",
        "            truncation=True\n",
        "        )\n",
        "        \n",
        "        ids = inputs['input_ids']\n",
        "        ids = ids[:self.total_max_len]\n",
        "        if len(ids) != self.total_max_len:\n",
        "            ids = ids + [self.tokenizer.pad_token_id, ] * (self.total_max_len - len(ids))\n",
        "        ids = torch.LongTensor(ids)\n",
        "\n",
        "        mask = inputs['attention_mask']\n",
        "        mask = mask[:self.total_max_len]\n",
        "        if len(mask) != self.total_max_len:\n",
        "            mask = mask + [self.tokenizer.pad_token_id, ] * (self.total_max_len - len(mask))\n",
        "        mask = torch.LongTensor(mask)\n",
        "\n",
        "        target = torch.LongTensor([row['target']])\n",
        "        target = torch.nn.functional.one_hot(target, num_classes=2).squeeze()\n",
        "        target = target.to(torch.float64)\n",
        "\n",
        "        assert len(ids) == self.total_max_len\n",
        "\n",
        "        return ids, mask, target\n",
        "\n",
        "    def __len__(self):\n",
        "        return self.df.shape[0]\n"
      ]
    },
    {
      "cell_type": "code",
      "execution_count": 39,
      "metadata": {
        "id": "-zysnp9CmeVY"
      },
      "outputs": [],
      "source": [
        "import torch.nn.functional as F\n",
        "import torch.nn as nn\n",
        "import torch\n",
        "from transformers import AutoModel, AutoTokenizer, AutoConfig, AdamW, get_linear_schedule_with_warmup\n",
        "\n",
        "\n",
        "class chABSAModel(nn.Module):\n",
        "    def __init__(self, model_path):\n",
        "        super(chABSAModel, self).__init__()\n",
        "        self.model = AutoModel.from_pretrained(model_path)\n",
        "        self.config = AutoConfig.from_pretrained(model_path, output_hidden_states=True)\n",
        "        \n",
        "        self.fc_dropout = nn.Dropout(0.2)\n",
        "        self.fc = nn.Linear(self.config.hidden_size, 1)\n",
        "        \n",
        "        self._init_weights(self.fc)\n",
        "        \n",
        "        self.linear_relu_stack = nn.Sequential(\n",
        "            nn.Linear(self.config.hidden_size, 512),\n",
        "            nn.ReLU(),\n",
        "            nn.Linear(512, 512),\n",
        "            nn.ReLU(),\n",
        "            nn.Linear(512, 2),\n",
        "            nn.Sigmoid()\n",
        "        )\n",
        "    \n",
        "    def _init_weights(self, module):\n",
        "        if isinstance(module, nn.Linear):\n",
        "            module.weight.data.normal_(mean=0.0, std=self.config.initializer_range)\n",
        "            if module.bias is not None:\n",
        "                module.bias.data.zero_()\n",
        "        elif isinstance(module, nn.Embedding):\n",
        "            module.weight.data.normal_(mean=0.0, std=self.config.initializer_range)\n",
        "            if module.padding_idx is not None:\n",
        "                module.weight.data[module.padding_idx].zero_()\n",
        "        elif isinstance(module, nn.LayerNorm):\n",
        "            module.bias.data.zero_()\n",
        "            module.weight.data.fill_(1.0)\n",
        "\n",
        "    def forward(self, inputs):\n",
        "        ids, mask = inputs\n",
        "        outputs = self.model(ids, mask)\n",
        "        last_hidden_states = outputs[0]\n",
        "        prob = self.linear_relu_stack(last_hidden_states)\n",
        "        prob = torch.mean(prob, dim=1).squeeze()\n",
        "        return prob\n"
      ]
    },
    {
      "cell_type": "code",
      "execution_count": 40,
      "metadata": {
        "id": "93Q0WypXmeYa"
      },
      "outputs": [],
      "source": [
        "from sklearn.metrics import f1_score\n",
        "\n",
        "def f1(ground_truth, predictions, debug):\n",
        "    if debug: print(ground_truth, predictions)\n",
        "    return f1_score(ground_truth, predictions, average='micro')"
      ]
    },
    {
      "cell_type": "code",
      "execution_count": null,
      "metadata": {
        "colab": {
          "base_uri": "https://localhost:8080/",
          "height": 1000,
          "referenced_widgets": [
            "97971a8b6789456d983099b93d1d3644",
            "4eb6caa9efb64efcafd8b90ed6500569",
            "a0d624f5a6854b6c9f56c6c01f66b31f",
            "6764fedfec0046a78b37211e09aa4d18",
            "8eaecef3144e4b7081edec1fadcfa86d",
            "9b2d69548ef14c34a3d84b38d86eec79",
            "a3472b69d09840c6a957fe066b35bcde",
            "0e9a168a317f4d77abc80383446a7e08",
            "dc4eda61c3494508a767d7353ddd874b",
            "c199e75ab9904047aac5c6d9a023f805",
            "a9a906b0c7a049e18f4f6faa8026e98d",
            "24dd707e53a5493aac1b30259e1c6c63",
            "1870783a9c5f449d8c196a36c2b9d78d",
            "91c8d7a984e945dbaa03d9997080cecf",
            "10d3550b254943ff91b12d8808160df7",
            "0f3cf5cc05094eae832e17d2fa1eed6f",
            "2cd353719fa841bd8e8e6997aad783d4",
            "8a0d66baa21948d893344d4327806ea8",
            "32c9a50b212f4a00b998c8809c192b27",
            "33af1602de124dc9882f142dccce9e68",
            "7418650884dd47d38c0299222424f591",
            "103ba1d9b8c64181b7f76cb147bd893b",
            "a2fb30d1cd1949be9149c3abf7d70472",
            "981a5dbd9051497ba5d816c60f61e205",
            "b0f37b7a816f4b158ecd118ae28c8806",
            "47515cde9b2a426eb1ea2e662574c6d6",
            "315ba44d52204e4da16c22d59e9f7391",
            "21a6d3290f054e4284c258a4b0303ed9",
            "ac1a3949b58947608a13a5dba40fb65e",
            "336d971e91ea4480be233b1a3bdb502d",
            "9deb47eeb1ca49049ca53b0a374c8af4",
            "9a1b59d1d1ee419abba391c9bb7a67f5",
            "cc8794cb3770412b8a9dd255f19b9a79",
            "a57dfcd67c0340a6a2efc8f85af55f0e",
            "459cbb07413946ad8da3c54f49da28e9",
            "0f047d27a4f04787a29dae774bc4fbd4",
            "e59df511032d4320b0f256e379ceeb44",
            "2e2aa6645ad64aa298b6f60882b4996d",
            "598da87a691a4547a8ac98967fe36c15",
            "475f375625784ffaa9a3c407946c0098",
            "26f9e42b96c04a1a897f950f6327e5b3",
            "10dc9c3028714c0e9c12bd8a78676eaa",
            "6ed11f56094f441caa8ff7fdf728391c",
            "46ee53ade74a4d409823ca36f6a2c1c2"
          ]
        },
        "id": "ZvJYAP1GmebW",
        "outputId": "b7746103-16ba-400c-b6cb-63f1364afcbc"
      },
      "outputs": [
        {
          "data": {
            "application/vnd.jupyter.widget-view+json": {
              "model_id": "97971a8b6789456d983099b93d1d3644",
              "version_major": 2,
              "version_minor": 0
            },
            "text/plain": [
              "Downloading (…)okenizer_config.json:   0%|          | 0.00/104 [00:00<?, ?B/s]"
            ]
          },
          "metadata": {},
          "output_type": "display_data"
        },
        {
          "data": {
            "application/vnd.jupyter.widget-view+json": {
              "model_id": "24dd707e53a5493aac1b30259e1c6c63",
              "version_major": 2,
              "version_minor": 0
            },
            "text/plain": [
              "Downloading (…)lve/main/config.json:   0%|          | 0.00/479 [00:00<?, ?B/s]"
            ]
          },
          "metadata": {},
          "output_type": "display_data"
        },
        {
          "data": {
            "application/vnd.jupyter.widget-view+json": {
              "model_id": "a2fb30d1cd1949be9149c3abf7d70472",
              "version_major": 2,
              "version_minor": 0
            },
            "text/plain": [
              "Downloading (…)solve/main/vocab.txt:   0%|          | 0.00/258k [00:00<?, ?B/s]"
            ]
          },
          "metadata": {},
          "output_type": "display_data"
        },
        {
          "data": {
            "application/vnd.jupyter.widget-view+json": {
              "model_id": "a57dfcd67c0340a6a2efc8f85af55f0e",
              "version_major": 2,
              "version_minor": 0
            },
            "text/plain": [
              "Downloading pytorch_model.bin:   0%|          | 0.00/445M [00:00<?, ?B/s]"
            ]
          },
          "metadata": {},
          "output_type": "display_data"
        },
        {
          "name": "stderr",
          "output_type": "stream",
          "text": [
            "Some weights of the model checkpoint at cl-tohoku/bert-base-japanese were not used when initializing BertModel: ['cls.predictions.decoder.weight', 'cls.predictions.bias', 'cls.seq_relationship.bias', 'cls.predictions.transform.dense.bias', 'cls.predictions.transform.LayerNorm.bias', 'cls.seq_relationship.weight', 'cls.predictions.transform.dense.weight', 'cls.predictions.transform.LayerNorm.weight']\n",
            "- This IS expected if you are initializing BertModel from the checkpoint of a model trained on another task or with another architecture (e.g. initializing a BertForSequenceClassification model from a BertForPreTraining model).\n",
            "- This IS NOT expected if you are initializing BertModel from the checkpoint of a model that you expect to be exactly identical (initializing a BertForSequenceClassification model from a BertForSequenceClassification model).\n",
            "/usr/local/lib/python3.10/dist-packages/transformers/optimization.py:407: FutureWarning: This implementation of AdamW is deprecated and will be removed in a future version. Use the PyTorch implementation torch.optim.AdamW instead, or set `no_deprecation_warning=True` to disable this warning\n",
            "  warnings.warn(\n"
          ]
        },
        {
          "name": "stdout",
          "output_type": "stream",
          "text": [
            "Epoch 1 Loss: 0.6558 lr: [2.944703530979347e-05, 2.944703530979347e-05]: 100%|██████████| 316/316 [01:30<00:00,  3.49it/s]\n",
            "100%|██████████| 36/36 [00:03<00:00, 10.40it/s]"
          ]
        },
        {
          "name": "stderr",
          "output_type": "stream",
          "text": [
            "Preds score: 0.8546\n",
            "INFO:__main__:Preds score: 0.8546\n",
            "Epoch 1 - Save Best Score: 0.8546 Model\n",
            "INFO:__main__:Epoch 1 - Save Best Score: 0.8546 Model\n"
          ]
        },
        {
          "name": "stdout",
          "output_type": "stream",
          "text": [
            "\n",
            "Epoch 2 Loss: 0.6111 lr: [2.731512325116589e-05, 2.731512325116589e-05]: 100%|██████████| 316/316 [01:30<00:00,  3.51it/s]\n",
            "100%|██████████| 36/36 [00:03<00:00, 10.76it/s]"
          ]
        },
        {
          "name": "stderr",
          "output_type": "stream",
          "text": [
            "Preds score: 0.7730\n",
            "INFO:__main__:Preds score: 0.7730\n"
          ]
        },
        {
          "name": "stdout",
          "output_type": "stream",
          "text": [
            "\n",
            "Epoch 3 Loss: 0.6017 lr: [2.518321119253831e-05, 2.518321119253831e-05]: 100%|██████████| 316/316 [01:30<00:00,  3.48it/s]\n",
            "100%|██████████| 36/36 [00:03<00:00, 10.41it/s]"
          ]
        },
        {
          "name": "stderr",
          "output_type": "stream",
          "text": [
            "Preds score: 0.8652\n",
            "INFO:__main__:Preds score: 0.8652\n",
            "Epoch 3 - Save Best Score: 0.8652 Model\n",
            "INFO:__main__:Epoch 3 - Save Best Score: 0.8652 Model\n"
          ]
        },
        {
          "name": "stdout",
          "output_type": "stream",
          "text": [
            "\n",
            "Epoch 4 Loss: 0.5742 lr: [2.305129913391073e-05, 2.305129913391073e-05]: 100%|██████████| 316/316 [01:31<00:00,  3.47it/s]\n",
            "100%|██████████| 36/36 [00:03<00:00, 10.50it/s]"
          ]
        },
        {
          "name": "stderr",
          "output_type": "stream",
          "text": [
            "Preds score: 0.8794\n",
            "INFO:__main__:Preds score: 0.8794\n",
            "Epoch 4 - Save Best Score: 0.8794 Model\n",
            "INFO:__main__:Epoch 4 - Save Best Score: 0.8794 Model\n"
          ]
        },
        {
          "name": "stdout",
          "output_type": "stream",
          "text": [
            "\n",
            "Epoch 5 Loss: 0.5651 lr: [2.0919387075283143e-05, 2.0919387075283143e-05]: 100%|██████████| 316/316 [01:31<00:00,  3.47it/s]\n",
            "100%|██████████| 36/36 [00:03<00:00, 10.27it/s]"
          ]
        },
        {
          "name": "stderr",
          "output_type": "stream",
          "text": [
            "Preds score: 0.8794\n",
            "INFO:__main__:Preds score: 0.8794\n"
          ]
        },
        {
          "name": "stdout",
          "output_type": "stream",
          "text": [
            "\n",
            "Epoch 6 Loss: 0.5704 lr: [1.8787475016655562e-05, 1.8787475016655562e-05]: 100%|██████████| 316/316 [01:30<00:00,  3.48it/s]\n",
            "100%|██████████| 36/36 [00:03<00:00, 10.51it/s]"
          ]
        },
        {
          "name": "stderr",
          "output_type": "stream",
          "text": [
            "Preds score: 0.8706\n",
            "INFO:__main__:Preds score: 0.8706\n"
          ]
        },
        {
          "name": "stdout",
          "output_type": "stream",
          "text": [
            "\n",
            "Epoch 7 Loss: 0.5648 lr: [1.665556295802798e-05, 1.665556295802798e-05]: 100%|██████████| 316/316 [01:30<00:00,  3.47it/s]\n",
            "100%|██████████| 36/36 [00:03<00:00, 10.51it/s]"
          ]
        },
        {
          "name": "stderr",
          "output_type": "stream",
          "text": [
            "Preds score: 0.8972\n",
            "INFO:__main__:Preds score: 0.8972\n",
            "Epoch 7 - Save Best Score: 0.8972 Model\n",
            "INFO:__main__:Epoch 7 - Save Best Score: 0.8972 Model\n"
          ]
        },
        {
          "name": "stdout",
          "output_type": "stream",
          "text": [
            "\n",
            "Epoch 8 Loss: 0.5583 lr: [1.45236508994004e-05, 1.45236508994004e-05]: 100%|██████████| 316/316 [01:30<00:00,  3.47it/s]\n",
            "100%|██████████| 36/36 [00:03<00:00, 10.54it/s]"
          ]
        },
        {
          "name": "stderr",
          "output_type": "stream",
          "text": [
            "Preds score: 0.8777\n",
            "INFO:__main__:Preds score: 0.8777\n"
          ]
        },
        {
          "name": "stdout",
          "output_type": "stream",
          "text": [
            "\n",
            "Epoch 9 Loss: 0.5543 lr: [1.2391738840772819e-05, 1.2391738840772819e-05]: 100%|██████████| 316/316 [01:31<00:00,  3.46it/s]\n",
            "100%|██████████| 36/36 [00:03<00:00, 10.30it/s]"
          ]
        },
        {
          "name": "stderr",
          "output_type": "stream",
          "text": [
            "Preds score: 0.8954\n",
            "INFO:__main__:Preds score: 0.8954\n"
          ]
        },
        {
          "name": "stdout",
          "output_type": "stream",
          "text": [
            "\n",
            "Epoch 10 Loss: 0.5495 lr: [1.0259826782145237e-05, 1.0259826782145237e-05]: 100%|██████████| 316/316 [01:32<00:00,  3.43it/s]\n",
            "100%|██████████| 36/36 [00:03<00:00, 10.51it/s]"
          ]
        },
        {
          "name": "stderr",
          "output_type": "stream",
          "text": [
            "Preds score: 0.8918\n",
            "INFO:__main__:Preds score: 0.8918\n"
          ]
        },
        {
          "name": "stdout",
          "output_type": "stream",
          "text": [
            "\n",
            "Epoch 11 Loss: 0.5486 lr: [8.127914723517655e-06, 8.127914723517655e-06]: 100%|██████████| 316/316 [01:31<00:00,  3.45it/s]\n",
            "100%|██████████| 36/36 [00:03<00:00, 10.02it/s]"
          ]
        },
        {
          "name": "stderr",
          "output_type": "stream",
          "text": [
            "Preds score: 0.8883\n",
            "INFO:__main__:Preds score: 0.8883\n"
          ]
        },
        {
          "name": "stdout",
          "output_type": "stream",
          "text": [
            "\n",
            "Epoch 12 Loss: 0.5447 lr: [5.9960026648900734e-06, 5.9960026648900734e-06]: 100%|██████████| 316/316 [01:31<00:00,  3.46it/s]\n",
            "100%|██████████| 36/36 [00:03<00:00, 10.52it/s]"
          ]
        },
        {
          "name": "stderr",
          "output_type": "stream",
          "text": [
            "Preds score: 0.8972\n",
            "INFO:__main__:Preds score: 0.8972\n"
          ]
        },
        {
          "name": "stdout",
          "output_type": "stream",
          "text": [
            "\n",
            "Epoch 13 Loss: 0.5429 lr: [3.864090606262492e-06, 3.864090606262492e-06]: 100%|██████████| 316/316 [01:31<00:00,  3.47it/s]\n",
            "100%|██████████| 36/36 [00:03<00:00, 10.38it/s]"
          ]
        },
        {
          "name": "stderr",
          "output_type": "stream",
          "text": [
            "Preds score: 0.9007\n",
            "INFO:__main__:Preds score: 0.9007\n",
            "Epoch 13 - Save Best Score: 0.9007 Model\n",
            "INFO:__main__:Epoch 13 - Save Best Score: 0.9007 Model\n"
          ]
        },
        {
          "name": "stdout",
          "output_type": "stream",
          "text": [
            "\n",
            "Epoch 14 Loss: 0.5407 lr: [1.7321785476349102e-06, 1.7321785476349102e-06]: 100%|██████████| 316/316 [01:30<00:00,  3.48it/s]\n",
            "100%|██████████| 36/36 [00:03<00:00, 10.53it/s]"
          ]
        },
        {
          "name": "stderr",
          "output_type": "stream",
          "text": [
            "Preds score: 0.9043\n",
            "INFO:__main__:Preds score: 0.9043\n",
            "Epoch 14 - Save Best Score: 0.9043 Model\n",
            "INFO:__main__:Epoch 14 - Save Best Score: 0.9043 Model\n"
          ]
        },
        {
          "name": "stdout",
          "output_type": "stream",
          "text": [
            "\n",
            "Epoch 15 Loss: 0.5388 lr: [0.0, 0.0]: 100%|██████████| 316/316 [01:30<00:00,  3.48it/s]\n",
            "100%|██████████| 36/36 [00:03<00:00, 10.36it/s]"
          ]
        },
        {
          "name": "stderr",
          "output_type": "stream",
          "text": [
            "Preds score: 0.9043\n",
            "INFO:__main__:Preds score: 0.9043\n"
          ]
        },
        {
          "name": "stdout",
          "output_type": "stream",
          "text": [
            "\n"
          ]
        }
      ],
      "source": [
        "import json\n",
        "from pathlib import Path\n",
        "import pandas as pd\n",
        "from torch.utils.data import DataLoader, Dataset\n",
        "from tqdm import tqdm\n",
        "import sys, os\n",
        "import torch\n",
        "import argparse\n",
        "import pickle\n",
        "import random\n",
        "\n",
        "\n",
        "os.makedirs(\"D:\\\\full-stack\\\\nlp_miniproject\\\\outputs\", exist_ok=True)\n",
        "\n",
        "\n",
        "\n",
        "def seed_everything(seed=42):\n",
        "    random.seed(seed)\n",
        "    os.environ['PYTHONHASHSEED'] = str(seed)\n",
        "    np.random.seed(seed)\n",
        "    torch.manual_seed(seed)\n",
        "    torch.cuda.manual_seed(seed)\n",
        "    torch.backends.cudnn.deterministic = True\n",
        "seed_everything(seed=42)\n",
        "\n",
        "\n",
        "def get_logger(filename='D:\\\\full-stack\\\\nlp_miniproject\\\\outputs\\\\train'):\n",
        "    from logging import getLogger, INFO, StreamHandler, FileHandler, Formatter\n",
        "    logger = getLogger(__name__)\n",
        "    logger.setLevel(INFO)\n",
        "    handler1 = StreamHandler()\n",
        "    handler1.setFormatter(Formatter(\"%(message)s\"))\n",
        "    handler2 = FileHandler(filename=f\"{filename}.log\")\n",
        "    handler2.setFormatter(Formatter(\"%(message)s\"))\n",
        "    logger.addHandler(handler1)\n",
        "    logger.addHandler(handler2)\n",
        "    return logger\n",
        "LOGGER = get_logger()\n",
        "\n",
        "\n",
        "if args.debug:\n",
        "    train_df = pd.read_csv(args.train_path, nrows=500)\n",
        "    val_df = pd.read_csv(args.val_path, nrows=100)\n",
        "else:\n",
        "    train_df = pd.read_csv(args.train_path)\n",
        "    val_df = pd.read_csv(args.val_path)\n",
        "\n",
        "\n",
        "train_ds = chABSADataset(train_df, model_name_or_path=args.model_name_or_path, total_max_len=args.total_max_len)\n",
        "val_ds = chABSADataset(val_df, model_name_or_path=args.model_name_or_path, total_max_len=args.total_max_len)\n",
        "train_loader = DataLoader(train_ds, batch_size=args.batch_size, shuffle=True, drop_last=True)\n",
        "val_loader = DataLoader(val_ds, batch_size=args.batch_size, shuffle=False, drop_last=False)\n",
        "\n",
        "\n",
        "\n",
        "def read_data(data):\n",
        "    return (data[0].cuda(), data[1].cuda()), data[2].cuda()\n",
        "\n",
        "\n",
        "def validate(model, val_loader):\n",
        "    model.eval()\n",
        "\n",
        "    tbar = tqdm(val_loader, file=sys.stdout)\n",
        "\n",
        "    preds = []\n",
        "    labels = []\n",
        "\n",
        "    with torch.no_grad():\n",
        "        for idx, data in enumerate(tbar):\n",
        "            inputs, target = read_data(data)\n",
        "\n",
        "            with torch.cuda.amp.autocast():\n",
        "                pred = model(inputs)\n",
        "\n",
        "            preds.append(pred.round().detach().cpu().numpy().ravel())\n",
        "            labels.append(target.detach().cpu().numpy().ravel())\n",
        "\n",
        "    return np.concatenate(labels), np.concatenate(preds)\n",
        "\n",
        "\n",
        "def train(model, train_loader, val_loader, epochs):\n",
        "    # Creating optimizer and lr schedulers\n",
        "    param_optimizer = list(model.named_parameters())\n",
        "    no_decay = ['bias', 'LayerNorm.bias', 'LayerNorm.weight']\n",
        "    optimizer_grouped_parameters = [\n",
        "        {'params': [p for n, p in param_optimizer if not any(nd in n for nd in no_decay)], 'weight_decay': 0.01},\n",
        "        {'params': [p for n, p in param_optimizer if any(nd in n for nd in no_decay)], 'weight_decay': 0.0}\n",
        "    ]\n",
        "\n",
        "    num_train_optimization_steps = int(args.epochs * len(train_loader) / args.accumulation_steps)\n",
        "    optimizer = AdamW(optimizer_grouped_parameters, lr=3e-5,\n",
        "                      correct_bias=False)  # To reproduce BertAdam specific behavior set correct_bias=False\n",
        "    scheduler = get_linear_schedule_with_warmup(optimizer, num_warmup_steps=0.05 * num_train_optimization_steps,\n",
        "                                                num_training_steps=num_train_optimization_steps)  # PyTorch scheduler\n",
        "    \n",
        "    criterion = torch.nn.BCEWithLogitsLoss()\n",
        "    scaler = torch.cuda.amp.GradScaler()\n",
        "    \n",
        "    list_loss_list = []\n",
        "    avg_losses = []\n",
        "    scores = []\n",
        "    best_score = 0.\n",
        "    best_scores = []\n",
        "    for e in range(epochs):\n",
        "        model.train()\n",
        "        tbar = tqdm(train_loader, file=sys.stdout)\n",
        "        loss_list = []\n",
        "        \n",
        "        preds = []\n",
        "        labels = []\n",
        "\n",
        "        for idx, data in enumerate(tbar):\n",
        "            inputs, target = read_data(data)\n",
        "\n",
        "            with torch.cuda.amp.autocast():\n",
        "                pred = model(inputs)\n",
        "                loss = criterion(pred, target)\n",
        "            scaler.scale(loss).backward()\n",
        "            if idx % args.accumulation_steps == 0 or idx == len(tbar) - 1:\n",
        "                scaler.step(optimizer)\n",
        "                scaler.update()\n",
        "                optimizer.zero_grad()\n",
        "                scheduler.step()\n",
        "\n",
        "            loss_list.append(loss.detach().cpu().item())\n",
        "            preds.append(pred.detach().cpu().numpy().ravel())\n",
        "            labels.append(target.detach().cpu().numpy().ravel())\n",
        "\n",
        "            avg_loss = np.round(np.mean(loss_list), 4)\n",
        "\n",
        "            tbar.set_description(f\"Epoch {e + 1} Loss: {avg_loss} lr: {scheduler.get_last_lr()}\")\n",
        "        \n",
        "        list_loss_list += loss_list\n",
        "        avg_losses.append(avg_loss)\n",
        "\n",
        "        y_val, y_pred = validate(model, val_loader)\n",
        "        if args.debug: print(y_val.shape, y_pred.shape)\n",
        "        score = f1(y_val, y_pred, args.debug)\n",
        "\n",
        "        LOGGER.info(f\"Preds score: {score:.4f}\")\n",
        "        scores.append(score)\n",
        "\n",
        "        if best_score < score:\n",
        "            best_score = score\n",
        "            LOGGER.info(f'Epoch {e+1} - Save Best Score: {best_score:.4f} Model')\n",
        "            torch.save({'model': model.state_dict(),'predictions': y_pred},\"D:\\\\full-stack\\\\nlp_miniproject\\\\outputs\\\\mode_best.pth\")\n",
        "            best_scores.append(best_score)\n",
        "    \n",
        "    pickle.dump(list_loss_list, open('D:\\\\full-stack\\\\nlp_miniproject\\\\outputs\\\\list_loss_list.pickle', 'wb'))\n",
        "    pickle.dump(avg_losses, open('D:\\\\full-stack\\\\nlp_miniproject\\\\outputs\\\\avg_losses.pickle', 'wb'))\n",
        "    pickle.dump(scores, open(\"D:\\\\full-stack\\\\nlp_miniproject\\\\outputs\\\\scores.pickle\", \"wb\"))\n",
        "    pickle.dump(best_scores, open(\"D:\\\\full-stack\\\\nlp_miniproject\\\\outputs\\\\best_scores.pickle\", \"wb\"))\n",
        "    torch.save(model.state_dict(), \"D:\\\\full-stack\\\\nlp_miniproject\\\\outputs\\\\model.pth\")\n",
        "\n",
        "    return model, y_pred\n",
        "\n",
        "\n",
        "model = chABSAModel(args.model_name_or_path)\n",
        "model = model.cuda()\n",
        "model, y_pred = train(model, train_loader, val_loader, epochs=args.epochs)\n",
        "\n"
      ]
    },
    {
      "cell_type": "code",
      "execution_count": null,
      "metadata": {
        "id": "LKNw8vWNmeeY"
      },
      "outputs": [],
      "source": [
        "loss_list = pickle.load(open('./outputs/list_loss_list.pickle', 'rb'))\n",
        "avg_losses = pickle.load(open('./outputs/avg_losses.pickle', 'rb'))\n",
        "scores = pickle.load(open('./outputs/scores.pickle', 'rb'))\n",
        "best_scores = pickle.load(open('./outputs/best_scores.pickle', 'rb'))"
      ]
    },
    {
      "cell_type": "code",
      "execution_count": null,
      "metadata": {
        "colab": {
          "base_uri": "https://localhost:8080/",
          "height": 333
        },
        "id": "BVSsfsgDmehO",
        "outputId": "0505cab7-533a-4624-a921-1f378e821755"
      },
      "outputs": [
        {
          "data": {
            "image/png": "[encoded data removed]",
            "text/plain": [
              "<Figure size 700x300 with 1 Axes>"
            ]
          },
          "metadata": {},
          "output_type": "display_data"
        }
      ],
      "source": [
        "plt.figure(figsize=(7,3))\n",
        "plt.plot(avg_losses, label='avg train loss')\n",
        "plt.plot(scores, label='scores')\n",
        "plt.xticks(range(0,CFG.epochs))\n",
        "plt.xlabel('epochs')\n",
        "plt.legend()\n",
        "plt.title(f'Best score: {best_scores[-1]}');"
      ]
    },
    {
      "cell_type": "code",
      "execution_count": null,
      "metadata": {
        "id": "Pz6IELMeXPNg"
      },
      "outputs": [],
      "source": [
        "#/content/drive/MyDrive/Colab Notebooks/datasets/chabsa/outputs\n",
        "\n",
        "# pickle.dump(list_loss_list, open('/content/drive/MyDrive/Colab Notebooks/datasets/chabsa/outputs/list_loss_list.pickle', 'wb'))\n",
        "pickle.dump(avg_losses, open('/content/drive/MyDrive/Colab Notebooks/datasets/chabsa/outputs/avg_losses.pickle', 'wb'))\n",
        "pickle.dump(scores, open(\"/content/drive/MyDrive/Colab Notebooks/datasets/chabsa/outputs/scores.pickle\", \"wb\"))\n",
        "pickle.dump(best_scores, open(\"/content/drive/MyDrive/Colab Notebooks/datasets/chabsa/outputs/best_scores.pickle\", \"wb\"))\n",
        "torch.save(model.state_dict(), \"/content/drive/MyDrive/Colab Notebooks/datasets/chabsa/outputs/model.pth\")\n",
        "\n"
      ]
    },
    {
      "cell_type": "code",
      "execution_count": null,
      "metadata": {
        "colab": {
          "base_uri": "https://localhost:8080/"
        },
        "id": "ifd0Kc57XPTI",
        "outputId": "1896f50d-94a8-4516-de72-cd091508ba6f"
      },
      "outputs": [
        {
          "data": {
            "text/plain": [
              "<torch.utils.data.dataloader.DataLoader at 0x7f9886e49840>"
            ]
          },
          "execution_count": 29,
          "metadata": {},
          "output_type": "execute_result"
        }
      ],
      "source": [
        "\n",
        "# train_ds = chABSADataset(train_df, model_name_or_path=args.model_name_or_path, total_max_len=args.total_max_len)\n",
        "# val_ds = chABSADataset(val_df, model_name_or_path=args.model_name_or_path, total_max_len=args.total_max_len)\n",
        "# train_loader = DataLoader(train_ds, batch_size=args.batch_size, shuffle=True, drop_last=True)\n",
        "# val_loader = DataLoader(val_ds, batch_size=args.batch_size, shuffle=False, drop_last=False)\n",
        "train_loader"
      ]
    },
    {
      "cell_type": "code",
      "execution_count": null,
      "metadata": {
        "id": "5qINiURkXPWi"
      },
      "outputs": [],
      "source": [
        "\n",
        "        \n",
        "# tbar = tqdm(train_loader, file=sys.stdout)\n",
        "\n",
        "# print(tbar)\n",
        "# print(\"*\"*100)\n",
        "# print(enumerate(tbar))\n",
        "# print()\n",
        "# print()\n",
        "# for idx, data in enumerate(tbar):\n",
        "#     print(idx)\n",
        "#     inputs, target = read_data(data)\n",
        "\n",
        "#     print(len(inputs),len(target))\n",
        "#     break\n",
        "  \n",
        "\n"
      ]
    },
    {
      "cell_type": "code",
      "execution_count": null,
      "metadata": {
        "id": "E7NxSkS1XPZ3"
      },
      "outputs": [],
      "source": [
        "# here trying  to predict new sentence based on the previously trained model\n",
        "\"\"\"\n",
        "model is saved in /content/drive/MyDrive/Colab Notebooks/datasets/chabsa/outputs/model.pth file\n",
        "load the model in the new variable\n",
        "\"\"\""
      ]
    },
    {
      "cell_type": "code",
      "execution_count": null,
      "metadata": {
        "colab": {
          "base_uri": "https://localhost:8080/"
        },
        "id": "tUWn5BGyXPcz",
        "outputId": "7d6032d7-1496-43df-a299-a110879768ba"
      },
      "outputs": [
        {
          "data": {
            "text/plain": [
              "<All keys matched successfully>"
            ]
          },
          "execution_count": 91,
          "metadata": {},
          "output_type": "execute_result"
        }
      ],
      "source": [
        "\n"
      ]
    },
    {
      "cell_type": "code",
      "execution_count": null,
      "metadata": {
        "id": "0s68NGPqEv5D"
      },
      "outputs": [],
      "source": [
        "# model.eval()\n"
      ]
    },
    {
      "cell_type": "code",
      "execution_count": null,
      "metadata": {
        "id": "V5iCjJ0pXPf0"
      },
      "outputs": [],
      "source": [
        "train_df1 = pd.read_csv(args.train_path, nrows=500)"
      ]
    },
    {
      "cell_type": "code",
      "execution_count": null,
      "metadata": {
        "colab": {
          "base_uri": "https://localhost:8080/",
          "height": 485
        },
        "id": "cpY4-oAaXPiw",
        "outputId": "87f5b910-3144-4626-dc16-3300a92529a7"
      },
      "outputs": [
        {
          "data": {
            "text/html": [
              "\n",
              "  <div id=\"df-6b3c1f13-06e8-4a1b-a787-bf69b7f4e352\">\n",
              "    <div class=\"colab-df-container\">\n",
              "      <div>\n",
              "<style scoped>\n",
              "    .dataframe tbody tr th:only-of-type {\n",
              "        vertical-align: middle;\n",
              "    }\n",
              "\n",
              "    .dataframe tbody tr th {\n",
              "        vertical-align: top;\n",
              "    }\n",
              "\n",
              "    .dataframe thead th {\n",
              "        text-align: right;\n",
              "    }\n",
              "</style>\n",
              "<table border=\"1\" class=\"dataframe\">\n",
              "  <thead>\n",
              "    <tr style=\"text-align: right;\">\n",
              "      <th></th>\n",
              "      <th>Id</th>\n",
              "      <th>text</th>\n",
              "      <th>target</th>\n",
              "    </tr>\n",
              "  </thead>\n",
              "  <tbody>\n",
              "    <tr>\n",
              "      <th>0</th>\n",
              "      <td>926</td>\n",
              "      <td>ユニフォーム部門については、前期大口受注のあった民需ユニフォームの反動減に加え、秋冬の官公庁関係の受注落ち込みがあり、売上高は前期を下回った</td>\n",
              "      <td>0.0</td>\n",
              "    </tr>\n",
              "    <tr>\n",
              "      <th>1</th>\n",
              "      <td>361</td>\n",
              "      <td>海外経済につきましては、ユーロ圏では個人消費、中国では鉱工業部門の回復が寄与し、緩やかに景況感が改善いたしました</td>\n",
              "      <td>1.0</td>\n",
              "    </tr>\n",
              "    <tr>\n",
              "      <th>2</th>\n",
              "      <td>1012</td>\n",
              "      <td>この結果、当連結会計年度の当社グループの売上高は、210億円（前連結会計年度比84百万円、0.4％増）となりました</td>\n",
              "      <td>1.0</td>\n",
              "    </tr>\n",
              "    <tr>\n",
              "      <th>3</th>\n",
              "      <td>2693</td>\n",
              "      <td>売上高は944億円（対前期＋4.7％）、営業利益は76億円（同＋18.2％）となりました</td>\n",
              "      <td>1.0</td>\n",
              "    </tr>\n",
              "    <tr>\n",
              "      <th>4</th>\n",
              "      <td>1654</td>\n",
              "      <td>この結果、売上高は480億58百万円（前年同期比3.5％増）となりました</td>\n",
              "      <td>1.0</td>\n",
              "    </tr>\n",
              "    <tr>\n",
              "      <th>...</th>\n",
              "      <td>...</td>\n",
              "      <td>...</td>\n",
              "      <td>...</td>\n",
              "    </tr>\n",
              "    <tr>\n",
              "      <th>495</th>\n",
              "      <td>2643</td>\n",
              "      <td>当事業年度におけるわが国経済は、企業の収益環境は良好であり、緩やかな回復基調で推移しましたが、米国トランプ政権の保護主義的な政策運営や欧州政治情勢など、海外動向に不透明感が残るなか、依然として先行き不透明な状況が続いています</td>\n",
              "      <td>1.0</td>\n",
              "    </tr>\n",
              "    <tr>\n",
              "      <th>496</th>\n",
              "      <td>1773</td>\n",
              "      <td>回路保護素子事業につきましては、車載用回路保護素子は増加したものの、リチウムイオン電池向けの高電流ヒューズの売上高が減少しました</td>\n",
              "      <td>1.0</td>\n",
              "    </tr>\n",
              "    <tr>\n",
              "      <th>497</th>\n",
              "      <td>52</td>\n",
              "      <td>土地の一括売却が減少したこと等により減収となりましたが、分譲マンションにおいて高価格帯物件が増加したこと等により売上が増加、粗利益率も改善したことにより増益となりました</td>\n",
              "      <td>1.0</td>\n",
              "    </tr>\n",
              "    <tr>\n",
              "      <th>498</th>\n",
              "      <td>2697</td>\n",
              "      <td>アルコール測定器の販売は好調に推移いたしました</td>\n",
              "      <td>1.0</td>\n",
              "    </tr>\n",
              "    <tr>\n",
              "      <th>499</th>\n",
              "      <td>1544</td>\n",
              "      <td>このような状況のもと、当連結会計年度における当社グループの業績は原材料価格の下落（価格スライド制）や為替相場の円高基調および需要減少の影響等により、前年同期に比べ売上収益は10.5％減の910,486百万円、調整後営業利益は10,0...</td>\n",
              "      <td>0.0</td>\n",
              "    </tr>\n",
              "  </tbody>\n",
              "</table>\n",
              "<p>500 rows × 3 columns</p>\n",
              "</div>\n",
              "      <button class=\"colab-df-convert\" onclick=\"convertToInteractive('df-6b3c1f13-06e8-4a1b-a787-bf69b7f4e352')\"\n",
              "              title=\"Convert this dataframe to an interactive table.\"\n",
              "              style=\"display:none;\">\n",
              "        \n",
              "  <svg xmlns=\"http://www.w3.org/2000/svg\" height=\"24px\"viewBox=\"0 0 24 24\"\n",
              "       width=\"24px\">\n",
              "    <path d=\"M0 0h24v24H0V0z\" fill=\"none\"/>\n",
              "    <path d=\"M18.56 5.44l.94 2.06.94-2.06 2.06-.94-2.06-.94-.94-2.06-.94 2.06-2.06.94zm-11 1L8.5 8.5l.94-2.06 2.06-.94-2.06-.94L8.5 2.5l-.94 2.06-2.06.94zm10 10l.94 2.06.94-2.06 2.06-.94-2.06-.94-.94-2.06-.94 2.06-2.06.94z\"/><path d=\"M17.41 7.96l-1.37-1.37c-.4-.4-.92-.59-1.43-.59-.52 0-1.04.2-1.43.59L10.3 9.45l-7.72 7.72c-.78.78-.78 2.05 0 2.83L4 21.41c.39.39.9.59 1.41.59.51 0 1.02-.2 1.41-.59l7.78-7.78 2.81-2.81c.8-.78.8-2.07 0-2.86zM5.41 20L4 18.59l7.72-7.72 1.47 1.35L5.41 20z\"/>\n",
              "  </svg>\n",
              "      </button>\n",
              "      \n",
              "  <style>\n",
              "    .colab-df-container {\n",
              "      display:flex;\n",
              "      flex-wrap:wrap;\n",
              "      gap: 12px;\n",
              "    }\n",
              "\n",
              "    .colab-df-convert {\n",
              "      background-color: #E8F0FE;\n",
              "      border: none;\n",
              "      border-radius: 50%;\n",
              "      cursor: pointer;\n",
              "      display: none;\n",
              "      fill: #1967D2;\n",
              "      height: 32px;\n",
              "      padding: 0 0 0 0;\n",
              "      width: 32px;\n",
              "    }\n",
              "\n",
              "    .colab-df-convert:hover {\n",
              "      background-color: #E2EBFA;\n",
              "      box-shadow: 0px 1px 2px rgba(60, 64, 67, 0.3), 0px 1px 3px 1px rgba(60, 64, 67, 0.15);\n",
              "      fill: #174EA6;\n",
              "    }\n",
              "\n",
              "    [theme=dark] .colab-df-convert {\n",
              "      background-color: #3B4455;\n",
              "      fill: #D2E3FC;\n",
              "    }\n",
              "\n",
              "    [theme=dark] .colab-df-convert:hover {\n",
              "      background-color: #434B5C;\n",
              "      box-shadow: 0px 1px 3px 1px rgba(0, 0, 0, 0.15);\n",
              "      filter: drop-shadow(0px 1px 2px rgba(0, 0, 0, 0.3));\n",
              "      fill: #FFFFFF;\n",
              "    }\n",
              "  </style>\n",
              "\n",
              "      <script>\n",
              "        const buttonEl =\n",
              "          document.querySelector('#df-6b3c1f13-06e8-4a1b-a787-bf69b7f4e352 button.colab-df-convert');\n",
              "        buttonEl.style.display =\n",
              "          google.colab.kernel.accessAllowed ? 'block' : 'none';\n",
              "\n",
              "        async function convertToInteractive(key) {\n",
              "          const element = document.querySelector('#df-6b3c1f13-06e8-4a1b-a787-bf69b7f4e352');\n",
              "          const dataTable =\n",
              "            await google.colab.kernel.invokeFunction('convertToInteractive',\n",
              "                                                     [key], {});\n",
              "          if (!dataTable) return;\n",
              "\n",
              "          const docLinkHtml = 'Like what you see? Visit the ' +\n",
              "            '<a target=\"_blank\" href=https://colab.research.google.com/notebooks/data_table.ipynb>data table notebook</a>'\n",
              "            + ' to learn more about interactive tables.';\n",
              "          element.innerHTML = '';\n",
              "          dataTable['output_type'] = 'display_data';\n",
              "          await google.colab.output.renderOutput(dataTable, element);\n",
              "          const docLink = document.createElement('div');\n",
              "          docLink.innerHTML = docLinkHtml;\n",
              "          element.appendChild(docLink);\n",
              "        }\n",
              "      </script>\n",
              "    </div>\n",
              "  </div>\n",
              "  "
            ],
            "text/plain": [
              "       Id                                                                                                                     text  target\n",
              "0     926                                                   ユニフォーム部門については、前期大口受注のあった民需ユニフォームの反動減に加え、秋冬の官公庁関係の受注落ち込みがあり、売上高は前期を下回った     0.0\n",
              "1     361                                                                 海外経済につきましては、ユーロ圏では個人消費、中国では鉱工業部門の回復が寄与し、緩やかに景況感が改善いたしました     1.0\n",
              "2    1012                                                                この結果、当連結会計年度の当社グループの売上高は、210億円（前連結会計年度比84百万円、0.4％増）となりました     1.0\n",
              "3    2693                                                                             売上高は944億円（対前期＋4.7％）、営業利益は76億円（同＋18.2％）となりました     1.0\n",
              "4    1654                                                                                     この結果、売上高は480億58百万円（前年同期比3.5％増）となりました     1.0\n",
              "..    ...                                                                                                                      ...     ...\n",
              "495  2643         当事業年度におけるわが国経済は、企業の収益環境は良好であり、緩やかな回復基調で推移しましたが、米国トランプ政権の保護主義的な政策運営や欧州政治情勢など、海外動向に不透明感が残るなか、依然として先行き不透明な状況が続いています     1.0\n",
              "496  1773                                                         回路保護素子事業につきましては、車載用回路保護素子は増加したものの、リチウムイオン電池向けの高電流ヒューズの売上高が減少しました     1.0\n",
              "497    52                                     土地の一括売却が減少したこと等により減収となりましたが、分譲マンションにおいて高価格帯物件が増加したこと等により売上が増加、粗利益率も改善したことにより増益となりました     1.0\n",
              "498  2697                                                                                                  アルコール測定器の販売は好調に推移いたしました     1.0\n",
              "499  1544  このような状況のもと、当連結会計年度における当社グループの業績は原材料価格の下落（価格スライド制）や為替相場の円高基調および需要減少の影響等により、前年同期に比べ売上収益は10.5％減の910,486百万円、調整後営業利益は10,0...     0.0\n",
              "\n",
              "[500 rows x 3 columns]"
            ]
          },
          "execution_count": 43,
          "metadata": {},
          "output_type": "execute_result"
        }
      ],
      "source": [
        "train_df1"
      ]
    },
    {
      "cell_type": "code",
      "execution_count": null,
      "metadata": {
        "id": "FDoXVNxsXPmR"
      },
      "outputs": [],
      "source": [
        "val_df1 = pd.read_csv(args.val_path, nrows=100)"
      ]
    },
    {
      "cell_type": "code",
      "execution_count": null,
      "metadata": {
        "id": "w0niP44FJVos"
      },
      "outputs": [],
      "source": [
        "val_ds1 = chABSADataset(val_df1, model_name_or_path=args.model_name_or_path, total_max_len=args.total_max_len)"
      ]
    },
    {
      "cell_type": "code",
      "execution_count": null,
      "metadata": {
        "colab": {
          "base_uri": "https://localhost:8080/"
        },
        "id": "DJadbZCEn1ht",
        "outputId": "479b0f6d-a938-43a9-d82f-35191b0e6d09"
      },
      "outputs": [
        {
          "name": "stdout",
          "output_type": "stream",
          "text": [
            "Looking in indexes: https://pypi.org/simple, https://us-python.pkg.dev/colab-wheels/public/simple/\n",
            "Collecting transformers\n",
            "  Downloading transformers-4.29.2-py3-none-any.whl (7.1 MB)\n",
            "\u001b[2K     \u001b[90m━━━━━━━━━━━━━━━━━━━━━━━━━━━━━━━━━━━━━━━━\u001b[0m \u001b[32m7.1/7.1 MB\u001b[0m \u001b[31m51.6 MB/s\u001b[0m eta \u001b[36m0:00:00\u001b[0m\n",
            "\u001b[?25hRequirement already satisfied: filelock in /usr/local/lib/python3.10/dist-packages (from transformers) (3.12.0)\n",
            "Collecting huggingface-hub<1.0,>=0.14.1 (from transformers)\n",
            "  Downloading huggingface_hub-0.14.1-py3-none-any.whl (224 kB)\n",
            "\u001b[2K     \u001b[90m━━━━━━━━━━━━━━━━━━━━━━━━━━━━━━━━━━━━━━\u001b[0m \u001b[32m224.5/224.5 kB\u001b[0m \u001b[31m20.6 MB/s\u001b[0m eta \u001b[36m0:00:00\u001b[0m\n",
            "\u001b[?25hRequirement already satisfied: numpy>=1.17 in /usr/local/lib/python3.10/dist-packages (from transformers) (1.22.4)\n",
            "Requirement already satisfied: packaging>=20.0 in /usr/local/lib/python3.10/dist-packages (from transformers) (23.1)\n",
            "Requirement already satisfied: pyyaml>=5.1 in /usr/local/lib/python3.10/dist-packages (from transformers) (6.0)\n",
            "Requirement already satisfied: regex!=2019.12.17 in /usr/local/lib/python3.10/dist-packages (from transformers) (2022.10.31)\n",
            "Requirement already satisfied: requests in /usr/local/lib/python3.10/dist-packages (from transformers) (2.27.1)\n",
            "Collecting tokenizers!=0.11.3,<0.14,>=0.11.1 (from transformers)\n",
            "  Downloading tokenizers-0.13.3-cp310-cp310-manylinux_2_17_x86_64.manylinux2014_x86_64.whl (7.8 MB)\n",
            "\u001b[2K     \u001b[90m━━━━━━━━━━━━━━━━━━━━━━━━━━━━━━━━━━━━━━━━\u001b[0m \u001b[32m7.8/7.8 MB\u001b[0m \u001b[31m43.5 MB/s\u001b[0m eta \u001b[36m0:00:00\u001b[0m\n",
            "\u001b[?25hRequirement already satisfied: tqdm>=4.27 in /usr/local/lib/python3.10/dist-packages (from transformers) (4.65.0)\n",
            "Requirement already satisfied: fsspec in /usr/local/lib/python3.10/dist-packages (from huggingface-hub<1.0,>=0.14.1->transformers) (2023.4.0)\n",
            "Requirement already satisfied: typing-extensions>=3.7.4.3 in /usr/local/lib/python3.10/dist-packages (from huggingface-hub<1.0,>=0.14.1->transformers) (4.5.0)\n",
            "Requirement already satisfied: urllib3<1.27,>=1.21.1 in /usr/local/lib/python3.10/dist-packages (from requests->transformers) (1.26.15)\n",
            "Requirement already satisfied: certifi>=2017.4.17 in /usr/local/lib/python3.10/dist-packages (from requests->transformers) (2022.12.7)\n",
            "Requirement already satisfied: charset-normalizer~=2.0.0 in /usr/local/lib/python3.10/dist-packages (from requests->transformers) (2.0.12)\n",
            "Requirement already satisfied: idna<4,>=2.5 in /usr/local/lib/python3.10/dist-packages (from requests->transformers) (3.4)\n",
            "Installing collected packages: tokenizers, huggingface-hub, transformers\n",
            "Successfully installed huggingface-hub-0.14.1 tokenizers-0.13.3 transformers-4.29.2\n",
            "Looking in indexes: https://pypi.org/simple, https://us-python.pkg.dev/colab-wheels/public/simple/\n",
            "Collecting fugashi[unidic-lite]\n",
            "  Downloading fugashi-1.2.1-cp310-cp310-manylinux_2_17_x86_64.manylinux2014_x86_64.whl (599 kB)\n",
            "\u001b[2K     \u001b[90m━━━━━━━━━━━━━━━━━━━━━━━━━━━━━━━━━━━━━━\u001b[0m \u001b[32m599.9/599.9 kB\u001b[0m \u001b[31m15.4 MB/s\u001b[0m eta \u001b[36m0:00:00\u001b[0m\n",
            "\u001b[?25hCollecting unidic-lite (from fugashi[unidic-lite])\n",
            "  Downloading unidic-lite-1.0.8.tar.gz (47.4 MB)\n",
            "\u001b[2K     \u001b[90m━━━━━━━━━━━━━━━━━━━━━━━━━━━━━━━━━━━━━━━━\u001b[0m \u001b[32m47.4/47.4 MB\u001b[0m \u001b[31m8.2 MB/s\u001b[0m eta \u001b[36m0:00:00\u001b[0m\n",
            "\u001b[?25h  Preparing metadata (setup.py) ... \u001b[?25l\u001b[?25hdone\n",
            "Building wheels for collected packages: unidic-lite\n",
            "  Building wheel for unidic-lite (setup.py) ... \u001b[?25l\u001b[?25hdone\n",
            "  Created wheel for unidic-lite: filename=unidic_lite-1.0.8-py3-none-any.whl size=47658818 sha256=c369f750de6dfd17b9926cbf6c379e603f838c3686d74d3e7cecf756b074f0ca\n",
            "  Stored in directory: /root/.cache/pip/wheels/89/e8/68/f9ac36b8cc6c8b3c96888cd57434abed96595d444f42243853\n",
            "Successfully built unidic-lite\n",
            "Installing collected packages: unidic-lite, fugashi\n",
            "Successfully installed fugashi-1.2.1 unidic-lite-1.0.8\n",
            "Looking in indexes: https://pypi.org/simple, https://us-python.pkg.dev/colab-wheels/public/simple/\n",
            "Collecting ipadic\n",
            "  Downloading ipadic-1.0.0.tar.gz (13.4 MB)\n",
            "\u001b[2K     \u001b[90m━━━━━━━━━━━━━━━━━━━━━━━━━━━━━━━━━━━━━━━━\u001b[0m \u001b[32m13.4/13.4 MB\u001b[0m \u001b[31m85.4 MB/s\u001b[0m eta \u001b[36m0:00:00\u001b[0m\n",
            "\u001b[?25h  Preparing metadata (setup.py) ... \u001b[?25l\u001b[?25hdone\n",
            "Building wheels for collected packages: ipadic\n",
            "  Building wheel for ipadic (setup.py) ... \u001b[?25l\u001b[?25hdone\n",
            "  Created wheel for ipadic: filename=ipadic-1.0.0-py3-none-any.whl size=13556703 sha256=4bb71896a6509ae81f590f0b1596bf4d364eaacab9596320efd8a6485c39cb32\n",
            "  Stored in directory: /root/.cache/pip/wheels/5b/ea/e3/2f6e0860a327daba3b030853fce4483ed37468bbf1101c59c3\n",
            "Successfully built ipadic\n",
            "Installing collected packages: ipadic\n",
            "Successfully installed ipadic-1.0.0\n"
          ]
        }
      ],
      "source": [
        "!pip install transformers\n",
        "!pip install fugashi[unidic-lite]\n",
        "!pip install ipadic"
      ]
    },
    {
      "cell_type": "code",
      "execution_count": null,
      "metadata": {
        "colab": {
          "base_uri": "https://localhost:8080/"
        },
        "id": "xxSBVupRLjBX",
        "outputId": "3e434752-9f0f-451b-f1f0-96de30201e2a"
      },
      "outputs": [
        {
          "name": "stderr",
          "output_type": "stream",
          "text": [
            "Some weights of the model checkpoint at cl-tohoku/bert-base-japanese were not used when initializing BertModel: ['cls.predictions.transform.LayerNorm.bias', 'cls.predictions.bias', 'cls.seq_relationship.weight', 'cls.predictions.transform.dense.bias', 'cls.predictions.transform.LayerNorm.weight', 'cls.predictions.decoder.weight', 'cls.predictions.transform.dense.weight', 'cls.seq_relationship.bias']\n",
            "- This IS expected if you are initializing BertModel from the checkpoint of a model trained on another task or with another architecture (e.g. initializing a BertForSequenceClassification model from a BertForPreTraining model).\n",
            "- This IS NOT expected if you are initializing BertModel from the checkpoint of a model that you expect to be exactly identical (initializing a BertForSequenceClassification model from a BertForSequenceClassification model).\n"
          ]
        },
        {
          "name": "stdout",
          "output_type": "stream",
          "text": [
            "\r  0%|          | 0/1 [00:00<?, ?it/s]"
          ]
        },
        {
          "name": "stderr",
          "output_type": "stream",
          "text": [
            "/usr/local/lib/python3.10/dist-packages/torch/amp/autocast_mode.py:204: UserWarning: User provided device_type of 'cuda', but CUDA is not available. Disabling\n",
            "  warnings.warn('User provided device_type of \\'cuda\\', but CUDA is not available. Disabling')\n"
          ]
        },
        {
          "name": "stdout",
          "output_type": "stream",
          "text": [
            "100%|██████████| 1/1 [00:03<00:00,  3.15s/it]\n"
          ]
        },
        {
          "data": {
            "text/plain": [
              "0"
            ]
          },
          "execution_count": 12,
          "metadata": {},
          "output_type": "execute_result"
        }
      ],
      "source": [
        "\"\"\"\n",
        "FINAL CODE ZALA COMPLETEEEEEEEEEEE..... :)\n",
        "done.\n",
        "      \n",
        "\n",
        "\"\"\"\n",
        "\n",
        "class CFG:\n",
        "    model_name_or_path = 'cl-tohoku/bert-base-japanese'\n",
        "    train_path = './sample_data/train.csv'\n",
        "    val_path = './sample_data/val.csv'\n",
        "    total_max_len = 512\n",
        "    batch_size = 8\n",
        "    accumulation_steps = 4\n",
        "    epochs = 15\n",
        "    debug = False\n",
        "    \n",
        "args = CFG\n",
        "\n",
        "def read_data(data):\n",
        "\n",
        "    device = torch.device('cpu')\n",
        "    return (data[0].to(device), data[1].to(device)), data[2].to(device)\n",
        "\n",
        "\n",
        "from torch.utils.data import DataLoader, Dataset\n",
        "import torch\n",
        "from transformers import AutoTokenizer\n",
        "\n",
        "\n",
        "class chABSADataset(Dataset):\n",
        "\n",
        "    def __init__(self, df, model_name_or_path, total_max_len):\n",
        "        super().__init__()\n",
        "        self.df = df.reset_index(drop=True)\n",
        "        self.total_max_len = total_max_len  # maxlen allowed by model config\n",
        "        self.tokenizer = AutoTokenizer.from_pretrained(model_name_or_path)\n",
        "\n",
        "    def __getitem__(self, index):\n",
        "        row = self.df.iloc[index]\n",
        "\n",
        "        inputs = self.tokenizer.encode_plus(\n",
        "            row['text'],\n",
        "            None,\n",
        "            add_special_tokens=True,\n",
        "            max_length=self.total_max_len,\n",
        "            padding=\"max_length\",\n",
        "            return_token_type_ids=True,\n",
        "            truncation=True\n",
        "        )\n",
        "        \n",
        "        ids = inputs['input_ids']\n",
        "        ids = ids[:self.total_max_len]\n",
        "        if len(ids) != self.total_max_len:\n",
        "            ids = ids + [self.tokenizer.pad_token_id, ] * (self.total_max_len - len(ids))\n",
        "        ids = torch.LongTensor(ids)\n",
        "\n",
        "        mask = inputs['attention_mask']\n",
        "        mask = mask[:self.total_max_len]\n",
        "        if len(mask) != self.total_max_len:\n",
        "            mask = mask + [self.tokenizer.pad_token_id, ] * (self.total_max_len - len(mask))\n",
        "        mask = torch.LongTensor(mask)\n",
        "\n",
        "        target = torch.LongTensor([row['target']])\n",
        "        target = torch.nn.functional.one_hot(target, num_classes=2).squeeze()\n",
        "        target = target.to(torch.float64)\n",
        "\n",
        "        assert len(ids) == self.total_max_len\n",
        "\n",
        "        return ids, mask, target\n",
        "\n",
        "    def __len__(self):\n",
        "        return self.df.shape[0]\n",
        "\n",
        "\n",
        "\n",
        "\n",
        "import torch\n",
        "import torch.nn as nn\n",
        "from transformers import AutoModel, AutoTokenizer, AutoConfig, AdamW, get_linear_schedule_with_warmup\n",
        "from tqdm import tqdm\n",
        "import sys\n",
        "import pandas as pd\n",
        "\n",
        "class SM_Model(nn.Module):\n",
        "    def __init__(self, model_path):\n",
        "        super(SM_Model, self).__init__()\n",
        "        self.model = AutoModel.from_pretrained(model_path)\n",
        "        self.config = AutoConfig.from_pretrained(model_path, output_hidden_states=True)\n",
        "        \n",
        "        self.fc_dropout = nn.Dropout(0.2)\n",
        "        self.fc = nn.Linear(self.config.hidden_size, 1)\n",
        "        \n",
        "        self._init_weights(self.fc)\n",
        "        \n",
        "        self.linear_relu_stack = nn.Sequential(\n",
        "            nn.Linear(self.config.hidden_size, 512),\n",
        "            nn.ReLU(),\n",
        "            nn.Linear(512, 512),\n",
        "            nn.ReLU(),\n",
        "            nn.Linear(512, 2),\n",
        "            nn.Sigmoid()\n",
        "        )\n",
        "    \n",
        "    def _init_weights(self, module):\n",
        "        if isinstance(module, nn.Linear):\n",
        "            module.weight.data.normal_(mean=0.0, std=self.config.initializer_range)\n",
        "            if module.bias is not None:\n",
        "                module.bias.data.zero_()\n",
        "        elif isinstance(module, nn.Embedding):\n",
        "            module.weight.data.normal_(mean=0.0, std=self.config.initializer_range)\n",
        "            if module.padding_idx is not None:\n",
        "                module.weight.data[module.padding_idx].zero_()\n",
        "        elif isinstance(module, nn.LayerNorm):\n",
        "            module.bias.data.zero_()\n",
        "            module.weight.data.fill_(1.0)\n",
        "\n",
        "    def forward(self, inputs):\n",
        "        ids, mask = inputs\n",
        "        outputs = self.model(ids, mask)\n",
        "        last_hidden_states = outputs[0]\n",
        "        prob = self.linear_relu_stack(last_hidden_states)\n",
        "        prob = torch.mean(prob, dim=1).squeeze()\n",
        "        return prob\n",
        "\n",
        "\n",
        "\n",
        "\n",
        "\n",
        "model1 = SM_Model('cl-tohoku/bert-base-japanese')\n",
        "\n",
        "\n",
        "# checkpoint = torch.load('/content/drive/MyDrive/Colab Notebooks/datasets/chabsa/outputs/model.pth')\n",
        "model1.load_state_dict(torch.load('/content/drive/MyDrive/Colab Notebooks/datasets/chabsa/outputs/model.pth',map_location=torch.device('cpu')))\n",
        "model1.eval()\n",
        "\n",
        "\n",
        "data = {'Id': [1],\n",
        "        'text': ['ユニフォーム部門については、前期大口受注のあった民需ユニフォームの反動減に加え、秋冬の官公庁関係の受注落ち込みがあり、売上高は前期を下回った'],\n",
        "        'target': [0]}\n",
        "test_df = pd.DataFrame(data)\n",
        "\n",
        "test_ds = chABSADataset(test_df, model_name_or_path=args.model_name_or_path, total_max_len=args.total_max_len)\n",
        "test_loader = DataLoader(test_ds, batch_size=args.batch_size, shuffle=False, drop_last=False)\n",
        "\n",
        "\n",
        "tbar = tqdm(test_loader, file=sys.stdout)\n",
        "\n",
        "preds = []\n",
        "\n",
        "\n",
        "with torch.no_grad():\n",
        "    for idx, data in enumerate(tbar):\n",
        "        inputs, target = read_data(data)\n",
        "\n",
        "        with torch.cuda.amp.autocast():\n",
        "            pred = model1(inputs)\n",
        "            \n",
        "            te_pred =  pred.unsqueeze(dim=0)\n",
        "            o_target = torch.argmax(te_pred, dim=1)\n",
        "            preds.append(o_target)\n",
        "\n",
        "\n",
        "#will predict 0 or 1\n",
        "preds[0].round().detach().cpu().numpy().ravel()[0]"
      ]
    },
    {
      "cell_type": "code",
      "execution_count": null,
      "metadata": {
        "colab": {
          "base_uri": "https://localhost:8080/",
          "height": 81
        },
        "id": "7uiKdmFyL2WK",
        "outputId": "1a1cbe11-748f-4973-abbc-86614f08b444"
      },
      "outputs": [
        {
          "data": {
            "text/html": [
              "\n",
              "  <div id=\"df-bab79f1f-2055-4c62-bf9b-7d292e686cba\">\n",
              "    <div class=\"colab-df-container\">\n",
              "      <div>\n",
              "<style scoped>\n",
              "    .dataframe tbody tr th:only-of-type {\n",
              "        vertical-align: middle;\n",
              "    }\n",
              "\n",
              "    .dataframe tbody tr th {\n",
              "        vertical-align: top;\n",
              "    }\n",
              "\n",
              "    .dataframe thead th {\n",
              "        text-align: right;\n",
              "    }\n",
              "</style>\n",
              "<table border=\"1\" class=\"dataframe\">\n",
              "  <thead>\n",
              "    <tr style=\"text-align: right;\">\n",
              "      <th></th>\n",
              "      <th>Id</th>\n",
              "      <th>text</th>\n",
              "      <th>target</th>\n",
              "    </tr>\n",
              "  </thead>\n",
              "  <tbody>\n",
              "    <tr>\n",
              "      <th>0</th>\n",
              "      <td>1</td>\n",
              "      <td>ユニフォーム部門については、前期大口受注のあった民需ユニフォームの反動減に加え、秋冬の官公庁関係の受注落ち込みがあり、売上高は前期を下回った</td>\n",
              "      <td>0</td>\n",
              "    </tr>\n",
              "  </tbody>\n",
              "</table>\n",
              "</div>\n",
              "      <button class=\"colab-df-convert\" onclick=\"convertToInteractive('df-bab79f1f-2055-4c62-bf9b-7d292e686cba')\"\n",
              "              title=\"Convert this dataframe to an interactive table.\"\n",
              "              style=\"display:none;\">\n",
              "        \n",
              "  <svg xmlns=\"http://www.w3.org/2000/svg\" height=\"24px\"viewBox=\"0 0 24 24\"\n",
              "       width=\"24px\">\n",
              "    <path d=\"M0 0h24v24H0V0z\" fill=\"none\"/>\n",
              "    <path d=\"M18.56 5.44l.94 2.06.94-2.06 2.06-.94-2.06-.94-.94-2.06-.94 2.06-2.06.94zm-11 1L8.5 8.5l.94-2.06 2.06-.94-2.06-.94L8.5 2.5l-.94 2.06-2.06.94zm10 10l.94 2.06.94-2.06 2.06-.94-2.06-.94-.94-2.06-.94 2.06-2.06.94z\"/><path d=\"M17.41 7.96l-1.37-1.37c-.4-.4-.92-.59-1.43-.59-.52 0-1.04.2-1.43.59L10.3 9.45l-7.72 7.72c-.78.78-.78 2.05 0 2.83L4 21.41c.39.39.9.59 1.41.59.51 0 1.02-.2 1.41-.59l7.78-7.78 2.81-2.81c.8-.78.8-2.07 0-2.86zM5.41 20L4 18.59l7.72-7.72 1.47 1.35L5.41 20z\"/>\n",
              "  </svg>\n",
              "      </button>\n",
              "      \n",
              "  <style>\n",
              "    .colab-df-container {\n",
              "      display:flex;\n",
              "      flex-wrap:wrap;\n",
              "      gap: 12px;\n",
              "    }\n",
              "\n",
              "    .colab-df-convert {\n",
              "      background-color: #E8F0FE;\n",
              "      border: none;\n",
              "      border-radius: 50%;\n",
              "      cursor: pointer;\n",
              "      display: none;\n",
              "      fill: #1967D2;\n",
              "      height: 32px;\n",
              "      padding: 0 0 0 0;\n",
              "      width: 32px;\n",
              "    }\n",
              "\n",
              "    .colab-df-convert:hover {\n",
              "      background-color: #E2EBFA;\n",
              "      box-shadow: 0px 1px 2px rgba(60, 64, 67, 0.3), 0px 1px 3px 1px rgba(60, 64, 67, 0.15);\n",
              "      fill: #174EA6;\n",
              "    }\n",
              "\n",
              "    [theme=dark] .colab-df-convert {\n",
              "      background-color: #3B4455;\n",
              "      fill: #D2E3FC;\n",
              "    }\n",
              "\n",
              "    [theme=dark] .colab-df-convert:hover {\n",
              "      background-color: #434B5C;\n",
              "      box-shadow: 0px 1px 3px 1px rgba(0, 0, 0, 0.15);\n",
              "      filter: drop-shadow(0px 1px 2px rgba(0, 0, 0, 0.3));\n",
              "      fill: #FFFFFF;\n",
              "    }\n",
              "  </style>\n",
              "\n",
              "      <script>\n",
              "        const buttonEl =\n",
              "          document.querySelector('#df-bab79f1f-2055-4c62-bf9b-7d292e686cba button.colab-df-convert');\n",
              "        buttonEl.style.display =\n",
              "          google.colab.kernel.accessAllowed ? 'block' : 'none';\n",
              "\n",
              "        async function convertToInteractive(key) {\n",
              "          const element = document.querySelector('#df-bab79f1f-2055-4c62-bf9b-7d292e686cba');\n",
              "          const dataTable =\n",
              "            await google.colab.kernel.invokeFunction('convertToInteractive',\n",
              "                                                     [key], {});\n",
              "          if (!dataTable) return;\n",
              "\n",
              "          const docLinkHtml = 'Like what you see? Visit the ' +\n",
              "            '<a target=\"_blank\" href=https://colab.research.google.com/notebooks/data_table.ipynb>data table notebook</a>'\n",
              "            + ' to learn more about interactive tables.';\n",
              "          element.innerHTML = '';\n",
              "          dataTable['output_type'] = 'display_data';\n",
              "          await google.colab.output.renderOutput(dataTable, element);\n",
              "          const docLink = document.createElement('div');\n",
              "          docLink.innerHTML = docLinkHtml;\n",
              "          element.appendChild(docLink);\n",
              "        }\n",
              "      </script>\n",
              "    </div>\n",
              "  </div>\n",
              "  "
            ],
            "text/plain": [
              "   Id                                                                    text  target\n",
              "0   1  ユニフォーム部門については、前期大口受注のあった民需ユニフォームの反動減に加え、秋冬の官公庁関係の受注落ち込みがあり、売上高は前期を下回った       0"
            ]
          },
          "execution_count": 84,
          "metadata": {},
          "output_type": "execute_result"
        }
      ],
      "source": [
        "test_df"
      ]
    },
    {
      "cell_type": "code",
      "execution_count": null,
      "metadata": {
        "colab": {
          "base_uri": "https://localhost:8080/"
        },
        "id": "Ir5tTNHOM-hp",
        "outputId": "f1f87fbb-46a0-4abe-90ff-75e0ebf89343"
      },
      "outputs": [
        {
          "data": {
            "text/plain": [
              "array([0])"
            ]
          },
          "execution_count": 88,
          "metadata": {},
          "output_type": "execute_result"
        }
      ],
      "source": [
        "preds[0].round().detach().cpu().numpy().ravel()"
      ]
    }
  ],
  "metadata": {
    "colab": {
      "gpuType": "T4",
      "provenance": []
    },
    "gpuClass": "standard",
    "kernelspec": {
      "display_name": "Python 3",
      "name": "python3"
    },
    "language_info": {
      "codemirror_mode": {
        "name": "ipython",
        "version": 3
      },
      "file_extension": ".py",
      "mimetype": "text/x-python",
      "name": "python",
      "nbconvert_exporter": "python",
      "pygments_lexer": "ipython3",
      "version": "3.9.1"
    },
    "widgets": {
      "application/vnd.jupyter.widget-state+json": {
        "0e9a168a317f4d77abc80383446a7e08": {
          "model_module": "@jupyter-widgets/base",
          "model_module_version": "1.2.0",
          "model_name": "LayoutModel",
          "state": {
            "_model_module": "@jupyter-widgets/base",
            "_model_module_version": "1.2.0",
            "_model_name": "LayoutModel",
            "_view_count": null,
            "_view_module": "@jupyter-widgets/base",
            "_view_module_version": "1.2.0",
            "_view_name": "LayoutView",
            "align_content": null,
            "align_items": null,
            "align_self": null,
            "border": null,
            "bottom": null,
            "display": null,
            "flex": null,
            "flex_flow": null,
            "grid_area": null,
            "grid_auto_columns": null,
            "grid_auto_flow": null,
            "grid_auto_rows": null,
            "grid_column": null,
            "grid_gap": null,
            "grid_row": null,
            "grid_template_areas": null,
            "grid_template_columns": null,
            "grid_template_rows": null,
            "height": null,
            "justify_content": null,
            "justify_items": null,
            "left": null,
            "margin": null,
            "max_height": null,
            "max_width": null,
            "min_height": null,
            "min_width": null,
            "object_fit": null,
            "object_position": null,
            "order": null,
            "overflow": null,
            "overflow_x": null,
            "overflow_y": null,
            "padding": null,
            "right": null,
            "top": null,
            "visibility": null,
            "width": null
          }
        },
        "0f047d27a4f04787a29dae774bc4fbd4": {
          "model_module": "@jupyter-widgets/controls",
          "model_module_version": "1.5.0",
          "model_name": "FloatProgressModel",
          "state": {
            "_dom_classes": [],
            "_model_module": "@jupyter-widgets/controls",
            "_model_module_version": "1.5.0",
            "_model_name": "FloatProgressModel",
            "_view_count": null,
            "_view_module": "@jupyter-widgets/controls",
            "_view_module_version": "1.5.0",
            "_view_name": "ProgressView",
            "bar_style": "success",
            "description": "",
            "description_tooltip": null,
            "layout": "IPY_MODEL_26f9e42b96c04a1a897f950f6327e5b3",
            "max": 445021143,
            "min": 0,
            "orientation": "horizontal",
            "style": "IPY_MODEL_10dc9c3028714c0e9c12bd8a78676eaa",
            "value": 445021143
          }
        },
        "0f3cf5cc05094eae832e17d2fa1eed6f": {
          "model_module": "@jupyter-widgets/base",
          "model_module_version": "1.2.0",
          "model_name": "LayoutModel",
          "state": {
            "_model_module": "@jupyter-widgets/base",
            "_model_module_version": "1.2.0",
            "_model_name": "LayoutModel",
            "_view_count": null,
            "_view_module": "@jupyter-widgets/base",
            "_view_module_version": "1.2.0",
            "_view_name": "LayoutView",
            "align_content": null,
            "align_items": null,
            "align_self": null,
            "border": null,
            "bottom": null,
            "display": null,
            "flex": null,
            "flex_flow": null,
            "grid_area": null,
            "grid_auto_columns": null,
            "grid_auto_flow": null,
            "grid_auto_rows": null,
            "grid_column": null,
            "grid_gap": null,
            "grid_row": null,
            "grid_template_areas": null,
            "grid_template_columns": null,
            "grid_template_rows": null,
            "height": null,
            "justify_content": null,
            "justify_items": null,
            "left": null,
            "margin": null,
            "max_height": null,
            "max_width": null,
            "min_height": null,
            "min_width": null,
            "object_fit": null,
            "object_position": null,
            "order": null,
            "overflow": null,
            "overflow_x": null,
            "overflow_y": null,
            "padding": null,
            "right": null,
            "top": null,
            "visibility": null,
            "width": null
          }
        },
        "103ba1d9b8c64181b7f76cb147bd893b": {
          "model_module": "@jupyter-widgets/controls",
          "model_module_version": "1.5.0",
          "model_name": "DescriptionStyleModel",
          "state": {
            "_model_module": "@jupyter-widgets/controls",
            "_model_module_version": "1.5.0",
            "_model_name": "DescriptionStyleModel",
            "_view_count": null,
            "_view_module": "@jupyter-widgets/base",
            "_view_module_version": "1.2.0",
            "_view_name": "StyleView",
            "description_width": ""
          }
        },
        "10d3550b254943ff91b12d8808160df7": {
          "model_module": "@jupyter-widgets/controls",
          "model_module_version": "1.5.0",
          "model_name": "HTMLModel",
          "state": {
            "_dom_classes": [],
            "_model_module": "@jupyter-widgets/controls",
            "_model_module_version": "1.5.0",
            "_model_name": "HTMLModel",
            "_view_count": null,
            "_view_module": "@jupyter-widgets/controls",
            "_view_module_version": "1.5.0",
            "_view_name": "HTMLView",
            "description": "",
            "description_tooltip": null,
            "layout": "IPY_MODEL_7418650884dd47d38c0299222424f591",
            "placeholder": "​",
            "style": "IPY_MODEL_103ba1d9b8c64181b7f76cb147bd893b",
            "value": " 479/479 [00:00&lt;00:00, 38.8kB/s]"
          }
        },
        "10dc9c3028714c0e9c12bd8a78676eaa": {
          "model_module": "@jupyter-widgets/controls",
          "model_module_version": "1.5.0",
          "model_name": "ProgressStyleModel",
          "state": {
            "_model_module": "@jupyter-widgets/controls",
            "_model_module_version": "1.5.0",
            "_model_name": "ProgressStyleModel",
            "_view_count": null,
            "_view_module": "@jupyter-widgets/base",
            "_view_module_version": "1.2.0",
            "_view_name": "StyleView",
            "bar_color": null,
            "description_width": ""
          }
        },
        "1870783a9c5f449d8c196a36c2b9d78d": {
          "model_module": "@jupyter-widgets/controls",
          "model_module_version": "1.5.0",
          "model_name": "HTMLModel",
          "state": {
            "_dom_classes": [],
            "_model_module": "@jupyter-widgets/controls",
            "_model_module_version": "1.5.0",
            "_model_name": "HTMLModel",
            "_view_count": null,
            "_view_module": "@jupyter-widgets/controls",
            "_view_module_version": "1.5.0",
            "_view_name": "HTMLView",
            "description": "",
            "description_tooltip": null,
            "layout": "IPY_MODEL_2cd353719fa841bd8e8e6997aad783d4",
            "placeholder": "​",
            "style": "IPY_MODEL_8a0d66baa21948d893344d4327806ea8",
            "value": "Downloading (…)lve/main/config.json: 100%"
          }
        },
        "21a6d3290f054e4284c258a4b0303ed9": {
          "model_module": "@jupyter-widgets/base",
          "model_module_version": "1.2.0",
          "model_name": "LayoutModel",
          "state": {
            "_model_module": "@jupyter-widgets/base",
            "_model_module_version": "1.2.0",
            "_model_name": "LayoutModel",
            "_view_count": null,
            "_view_module": "@jupyter-widgets/base",
            "_view_module_version": "1.2.0",
            "_view_name": "LayoutView",
            "align_content": null,
            "align_items": null,
            "align_self": null,
            "border": null,
            "bottom": null,
            "display": null,
            "flex": null,
            "flex_flow": null,
            "grid_area": null,
            "grid_auto_columns": null,
            "grid_auto_flow": null,
            "grid_auto_rows": null,
            "grid_column": null,
            "grid_gap": null,
            "grid_row": null,
            "grid_template_areas": null,
            "grid_template_columns": null,
            "grid_template_rows": null,
            "height": null,
            "justify_content": null,
            "justify_items": null,
            "left": null,
            "margin": null,
            "max_height": null,
            "max_width": null,
            "min_height": null,
            "min_width": null,
            "object_fit": null,
            "object_position": null,
            "order": null,
            "overflow": null,
            "overflow_x": null,
            "overflow_y": null,
            "padding": null,
            "right": null,
            "top": null,
            "visibility": null,
            "width": null
          }
        },
        "24dd707e53a5493aac1b30259e1c6c63": {
          "model_module": "@jupyter-widgets/controls",
          "model_module_version": "1.5.0",
          "model_name": "HBoxModel",
          "state": {
            "_dom_classes": [],
            "_model_module": "@jupyter-widgets/controls",
            "_model_module_version": "1.5.0",
            "_model_name": "HBoxModel",
            "_view_count": null,
            "_view_module": "@jupyter-widgets/controls",
            "_view_module_version": "1.5.0",
            "_view_name": "HBoxView",
            "box_style": "",
            "children": [
              "IPY_MODEL_1870783a9c5f449d8c196a36c2b9d78d",
              "IPY_MODEL_91c8d7a984e945dbaa03d9997080cecf",
              "IPY_MODEL_10d3550b254943ff91b12d8808160df7"
            ],
            "layout": "IPY_MODEL_0f3cf5cc05094eae832e17d2fa1eed6f"
          }
        },
        "26f9e42b96c04a1a897f950f6327e5b3": {
          "model_module": "@jupyter-widgets/base",
          "model_module_version": "1.2.0",
          "model_name": "LayoutModel",
          "state": {
            "_model_module": "@jupyter-widgets/base",
            "_model_module_version": "1.2.0",
            "_model_name": "LayoutModel",
            "_view_count": null,
            "_view_module": "@jupyter-widgets/base",
            "_view_module_version": "1.2.0",
            "_view_name": "LayoutView",
            "align_content": null,
            "align_items": null,
            "align_self": null,
            "border": null,
            "bottom": null,
            "display": null,
            "flex": null,
            "flex_flow": null,
            "grid_area": null,
            "grid_auto_columns": null,
            "grid_auto_flow": null,
            "grid_auto_rows": null,
            "grid_column": null,
            "grid_gap": null,
            "grid_row": null,
            "grid_template_areas": null,
            "grid_template_columns": null,
            "grid_template_rows": null,
            "height": null,
            "justify_content": null,
            "justify_items": null,
            "left": null,
            "margin": null,
            "max_height": null,
            "max_width": null,
            "min_height": null,
            "min_width": null,
            "object_fit": null,
            "object_position": null,
            "order": null,
            "overflow": null,
            "overflow_x": null,
            "overflow_y": null,
            "padding": null,
            "right": null,
            "top": null,
            "visibility": null,
            "width": null
          }
        },
        "2cd353719fa841bd8e8e6997aad783d4": {
          "model_module": "@jupyter-widgets/base",
          "model_module_version": "1.2.0",
          "model_name": "LayoutModel",
          "state": {
            "_model_module": "@jupyter-widgets/base",
            "_model_module_version": "1.2.0",
            "_model_name": "LayoutModel",
            "_view_count": null,
            "_view_module": "@jupyter-widgets/base",
            "_view_module_version": "1.2.0",
            "_view_name": "LayoutView",
            "align_content": null,
            "align_items": null,
            "align_self": null,
            "border": null,
            "bottom": null,
            "display": null,
            "flex": null,
            "flex_flow": null,
            "grid_area": null,
            "grid_auto_columns": null,
            "grid_auto_flow": null,
            "grid_auto_rows": null,
            "grid_column": null,
            "grid_gap": null,
            "grid_row": null,
            "grid_template_areas": null,
            "grid_template_columns": null,
            "grid_template_rows": null,
            "height": null,
            "justify_content": null,
            "justify_items": null,
            "left": null,
            "margin": null,
            "max_height": null,
            "max_width": null,
            "min_height": null,
            "min_width": null,
            "object_fit": null,
            "object_position": null,
            "order": null,
            "overflow": null,
            "overflow_x": null,
            "overflow_y": null,
            "padding": null,
            "right": null,
            "top": null,
            "visibility": null,
            "width": null
          }
        },
        "2e2aa6645ad64aa298b6f60882b4996d": {
          "model_module": "@jupyter-widgets/base",
          "model_module_version": "1.2.0",
          "model_name": "LayoutModel",
          "state": {
            "_model_module": "@jupyter-widgets/base",
            "_model_module_version": "1.2.0",
            "_model_name": "LayoutModel",
            "_view_count": null,
            "_view_module": "@jupyter-widgets/base",
            "_view_module_version": "1.2.0",
            "_view_name": "LayoutView",
            "align_content": null,
            "align_items": null,
            "align_self": null,
            "border": null,
            "bottom": null,
            "display": null,
            "flex": null,
            "flex_flow": null,
            "grid_area": null,
            "grid_auto_columns": null,
            "grid_auto_flow": null,
            "grid_auto_rows": null,
            "grid_column": null,
            "grid_gap": null,
            "grid_row": null,
            "grid_template_areas": null,
            "grid_template_columns": null,
            "grid_template_rows": null,
            "height": null,
            "justify_content": null,
            "justify_items": null,
            "left": null,
            "margin": null,
            "max_height": null,
            "max_width": null,
            "min_height": null,
            "min_width": null,
            "object_fit": null,
            "object_position": null,
            "order": null,
            "overflow": null,
            "overflow_x": null,
            "overflow_y": null,
            "padding": null,
            "right": null,
            "top": null,
            "visibility": null,
            "width": null
          }
        },
        "315ba44d52204e4da16c22d59e9f7391": {
          "model_module": "@jupyter-widgets/base",
          "model_module_version": "1.2.0",
          "model_name": "LayoutModel",
          "state": {
            "_model_module": "@jupyter-widgets/base",
            "_model_module_version": "1.2.0",
            "_model_name": "LayoutModel",
            "_view_count": null,
            "_view_module": "@jupyter-widgets/base",
            "_view_module_version": "1.2.0",
            "_view_name": "LayoutView",
            "align_content": null,
            "align_items": null,
            "align_self": null,
            "border": null,
            "bottom": null,
            "display": null,
            "flex": null,
            "flex_flow": null,
            "grid_area": null,
            "grid_auto_columns": null,
            "grid_auto_flow": null,
            "grid_auto_rows": null,
            "grid_column": null,
            "grid_gap": null,
            "grid_row": null,
            "grid_template_areas": null,
            "grid_template_columns": null,
            "grid_template_rows": null,
            "height": null,
            "justify_content": null,
            "justify_items": null,
            "left": null,
            "margin": null,
            "max_height": null,
            "max_width": null,
            "min_height": null,
            "min_width": null,
            "object_fit": null,
            "object_position": null,
            "order": null,
            "overflow": null,
            "overflow_x": null,
            "overflow_y": null,
            "padding": null,
            "right": null,
            "top": null,
            "visibility": null,
            "width": null
          }
        },
        "32c9a50b212f4a00b998c8809c192b27": {
          "model_module": "@jupyter-widgets/base",
          "model_module_version": "1.2.0",
          "model_name": "LayoutModel",
          "state": {
            "_model_module": "@jupyter-widgets/base",
            "_model_module_version": "1.2.0",
            "_model_name": "LayoutModel",
            "_view_count": null,
            "_view_module": "@jupyter-widgets/base",
            "_view_module_version": "1.2.0",
            "_view_name": "LayoutView",
            "align_content": null,
            "align_items": null,
            "align_self": null,
            "border": null,
            "bottom": null,
            "display": null,
            "flex": null,
            "flex_flow": null,
            "grid_area": null,
            "grid_auto_columns": null,
            "grid_auto_flow": null,
            "grid_auto_rows": null,
            "grid_column": null,
            "grid_gap": null,
            "grid_row": null,
            "grid_template_areas": null,
            "grid_template_columns": null,
            "grid_template_rows": null,
            "height": null,
            "justify_content": null,
            "justify_items": null,
            "left": null,
            "margin": null,
            "max_height": null,
            "max_width": null,
            "min_height": null,
            "min_width": null,
            "object_fit": null,
            "object_position": null,
            "order": null,
            "overflow": null,
            "overflow_x": null,
            "overflow_y": null,
            "padding": null,
            "right": null,
            "top": null,
            "visibility": null,
            "width": null
          }
        },
        "336d971e91ea4480be233b1a3bdb502d": {
          "model_module": "@jupyter-widgets/base",
          "model_module_version": "1.2.0",
          "model_name": "LayoutModel",
          "state": {
            "_model_module": "@jupyter-widgets/base",
            "_model_module_version": "1.2.0",
            "_model_name": "LayoutModel",
            "_view_count": null,
            "_view_module": "@jupyter-widgets/base",
            "_view_module_version": "1.2.0",
            "_view_name": "LayoutView",
            "align_content": null,
            "align_items": null,
            "align_self": null,
            "border": null,
            "bottom": null,
            "display": null,
            "flex": null,
            "flex_flow": null,
            "grid_area": null,
            "grid_auto_columns": null,
            "grid_auto_flow": null,
            "grid_auto_rows": null,
            "grid_column": null,
            "grid_gap": null,
            "grid_row": null,
            "grid_template_areas": null,
            "grid_template_columns": null,
            "grid_template_rows": null,
            "height": null,
            "justify_content": null,
            "justify_items": null,
            "left": null,
            "margin": null,
            "max_height": null,
            "max_width": null,
            "min_height": null,
            "min_width": null,
            "object_fit": null,
            "object_position": null,
            "order": null,
            "overflow": null,
            "overflow_x": null,
            "overflow_y": null,
            "padding": null,
            "right": null,
            "top": null,
            "visibility": null,
            "width": null
          }
        },
        "33af1602de124dc9882f142dccce9e68": {
          "model_module": "@jupyter-widgets/controls",
          "model_module_version": "1.5.0",
          "model_name": "ProgressStyleModel",
          "state": {
            "_model_module": "@jupyter-widgets/controls",
            "_model_module_version": "1.5.0",
            "_model_name": "ProgressStyleModel",
            "_view_count": null,
            "_view_module": "@jupyter-widgets/base",
            "_view_module_version": "1.2.0",
            "_view_name": "StyleView",
            "bar_color": null,
            "description_width": ""
          }
        },
        "459cbb07413946ad8da3c54f49da28e9": {
          "model_module": "@jupyter-widgets/controls",
          "model_module_version": "1.5.0",
          "model_name": "HTMLModel",
          "state": {
            "_dom_classes": [],
            "_model_module": "@jupyter-widgets/controls",
            "_model_module_version": "1.5.0",
            "_model_name": "HTMLModel",
            "_view_count": null,
            "_view_module": "@jupyter-widgets/controls",
            "_view_module_version": "1.5.0",
            "_view_name": "HTMLView",
            "description": "",
            "description_tooltip": null,
            "layout": "IPY_MODEL_598da87a691a4547a8ac98967fe36c15",
            "placeholder": "​",
            "style": "IPY_MODEL_475f375625784ffaa9a3c407946c0098",
            "value": "Downloading pytorch_model.bin: 100%"
          }
        },
        "46ee53ade74a4d409823ca36f6a2c1c2": {
          "model_module": "@jupyter-widgets/controls",
          "model_module_version": "1.5.0",
          "model_name": "DescriptionStyleModel",
          "state": {
            "_model_module": "@jupyter-widgets/controls",
            "_model_module_version": "1.5.0",
            "_model_name": "DescriptionStyleModel",
            "_view_count": null,
            "_view_module": "@jupyter-widgets/base",
            "_view_module_version": "1.2.0",
            "_view_name": "StyleView",
            "description_width": ""
          }
        },
        "47515cde9b2a426eb1ea2e662574c6d6": {
          "model_module": "@jupyter-widgets/controls",
          "model_module_version": "1.5.0",
          "model_name": "HTMLModel",
          "state": {
            "_dom_classes": [],
            "_model_module": "@jupyter-widgets/controls",
            "_model_module_version": "1.5.0",
            "_model_name": "HTMLModel",
            "_view_count": null,
            "_view_module": "@jupyter-widgets/controls",
            "_view_module_version": "1.5.0",
            "_view_name": "HTMLView",
            "description": "",
            "description_tooltip": null,
            "layout": "IPY_MODEL_9a1b59d1d1ee419abba391c9bb7a67f5",
            "placeholder": "​",
            "style": "IPY_MODEL_cc8794cb3770412b8a9dd255f19b9a79",
            "value": " 258k/258k [00:00&lt;00:00, 634kB/s]"
          }
        },
        "475f375625784ffaa9a3c407946c0098": {
          "model_module": "@jupyter-widgets/controls",
          "model_module_version": "1.5.0",
          "model_name": "DescriptionStyleModel",
          "state": {
            "_model_module": "@jupyter-widgets/controls",
            "_model_module_version": "1.5.0",
            "_model_name": "DescriptionStyleModel",
            "_view_count": null,
            "_view_module": "@jupyter-widgets/base",
            "_view_module_version": "1.2.0",
            "_view_name": "StyleView",
            "description_width": ""
          }
        },
        "4eb6caa9efb64efcafd8b90ed6500569": {
          "model_module": "@jupyter-widgets/controls",
          "model_module_version": "1.5.0",
          "model_name": "HTMLModel",
          "state": {
            "_dom_classes": [],
            "_model_module": "@jupyter-widgets/controls",
            "_model_module_version": "1.5.0",
            "_model_name": "HTMLModel",
            "_view_count": null,
            "_view_module": "@jupyter-widgets/controls",
            "_view_module_version": "1.5.0",
            "_view_name": "HTMLView",
            "description": "",
            "description_tooltip": null,
            "layout": "IPY_MODEL_9b2d69548ef14c34a3d84b38d86eec79",
            "placeholder": "​",
            "style": "IPY_MODEL_a3472b69d09840c6a957fe066b35bcde",
            "value": "Downloading (…)okenizer_config.json: 100%"
          }
        },
        "598da87a691a4547a8ac98967fe36c15": {
          "model_module": "@jupyter-widgets/base",
          "model_module_version": "1.2.0",
          "model_name": "LayoutModel",
          "state": {
            "_model_module": "@jupyter-widgets/base",
            "_model_module_version": "1.2.0",
            "_model_name": "LayoutModel",
            "_view_count": null,
            "_view_module": "@jupyter-widgets/base",
            "_view_module_version": "1.2.0",
            "_view_name": "LayoutView",
            "align_content": null,
            "align_items": null,
            "align_self": null,
            "border": null,
            "bottom": null,
            "display": null,
            "flex": null,
            "flex_flow": null,
            "grid_area": null,
            "grid_auto_columns": null,
            "grid_auto_flow": null,
            "grid_auto_rows": null,
            "grid_column": null,
            "grid_gap": null,
            "grid_row": null,
            "grid_template_areas": null,
            "grid_template_columns": null,
            "grid_template_rows": null,
            "height": null,
            "justify_content": null,
            "justify_items": null,
            "left": null,
            "margin": null,
            "max_height": null,
            "max_width": null,
            "min_height": null,
            "min_width": null,
            "object_fit": null,
            "object_position": null,
            "order": null,
            "overflow": null,
            "overflow_x": null,
            "overflow_y": null,
            "padding": null,
            "right": null,
            "top": null,
            "visibility": null,
            "width": null
          }
        },
        "6764fedfec0046a78b37211e09aa4d18": {
          "model_module": "@jupyter-widgets/controls",
          "model_module_version": "1.5.0",
          "model_name": "HTMLModel",
          "state": {
            "_dom_classes": [],
            "_model_module": "@jupyter-widgets/controls",
            "_model_module_version": "1.5.0",
            "_model_name": "HTMLModel",
            "_view_count": null,
            "_view_module": "@jupyter-widgets/controls",
            "_view_module_version": "1.5.0",
            "_view_name": "HTMLView",
            "description": "",
            "description_tooltip": null,
            "layout": "IPY_MODEL_c199e75ab9904047aac5c6d9a023f805",
            "placeholder": "​",
            "style": "IPY_MODEL_a9a906b0c7a049e18f4f6faa8026e98d",
            "value": " 104/104 [00:00&lt;00:00, 6.95kB/s]"
          }
        },
        "6ed11f56094f441caa8ff7fdf728391c": {
          "model_module": "@jupyter-widgets/base",
          "model_module_version": "1.2.0",
          "model_name": "LayoutModel",
          "state": {
            "_model_module": "@jupyter-widgets/base",
            "_model_module_version": "1.2.0",
            "_model_name": "LayoutModel",
            "_view_count": null,
            "_view_module": "@jupyter-widgets/base",
            "_view_module_version": "1.2.0",
            "_view_name": "LayoutView",
            "align_content": null,
            "align_items": null,
            "align_self": null,
            "border": null,
            "bottom": null,
            "display": null,
            "flex": null,
            "flex_flow": null,
            "grid_area": null,
            "grid_auto_columns": null,
            "grid_auto_flow": null,
            "grid_auto_rows": null,
            "grid_column": null,
            "grid_gap": null,
            "grid_row": null,
            "grid_template_areas": null,
            "grid_template_columns": null,
            "grid_template_rows": null,
            "height": null,
            "justify_content": null,
            "justify_items": null,
            "left": null,
            "margin": null,
            "max_height": null,
            "max_width": null,
            "min_height": null,
            "min_width": null,
            "object_fit": null,
            "object_position": null,
            "order": null,
            "overflow": null,
            "overflow_x": null,
            "overflow_y": null,
            "padding": null,
            "right": null,
            "top": null,
            "visibility": null,
            "width": null
          }
        },
        "7418650884dd47d38c0299222424f591": {
          "model_module": "@jupyter-widgets/base",
          "model_module_version": "1.2.0",
          "model_name": "LayoutModel",
          "state": {
            "_model_module": "@jupyter-widgets/base",
            "_model_module_version": "1.2.0",
            "_model_name": "LayoutModel",
            "_view_count": null,
            "_view_module": "@jupyter-widgets/base",
            "_view_module_version": "1.2.0",
            "_view_name": "LayoutView",
            "align_content": null,
            "align_items": null,
            "align_self": null,
            "border": null,
            "bottom": null,
            "display": null,
            "flex": null,
            "flex_flow": null,
            "grid_area": null,
            "grid_auto_columns": null,
            "grid_auto_flow": null,
            "grid_auto_rows": null,
            "grid_column": null,
            "grid_gap": null,
            "grid_row": null,
            "grid_template_areas": null,
            "grid_template_columns": null,
            "grid_template_rows": null,
            "height": null,
            "justify_content": null,
            "justify_items": null,
            "left": null,
            "margin": null,
            "max_height": null,
            "max_width": null,
            "min_height": null,
            "min_width": null,
            "object_fit": null,
            "object_position": null,
            "order": null,
            "overflow": null,
            "overflow_x": null,
            "overflow_y": null,
            "padding": null,
            "right": null,
            "top": null,
            "visibility": null,
            "width": null
          }
        },
        "8a0d66baa21948d893344d4327806ea8": {
          "model_module": "@jupyter-widgets/controls",
          "model_module_version": "1.5.0",
          "model_name": "DescriptionStyleModel",
          "state": {
            "_model_module": "@jupyter-widgets/controls",
            "_model_module_version": "1.5.0",
            "_model_name": "DescriptionStyleModel",
            "_view_count": null,
            "_view_module": "@jupyter-widgets/base",
            "_view_module_version": "1.2.0",
            "_view_name": "StyleView",
            "description_width": ""
          }
        },
        "8eaecef3144e4b7081edec1fadcfa86d": {
          "model_module": "@jupyter-widgets/base",
          "model_module_version": "1.2.0",
          "model_name": "LayoutModel",
          "state": {
            "_model_module": "@jupyter-widgets/base",
            "_model_module_version": "1.2.0",
            "_model_name": "LayoutModel",
            "_view_count": null,
            "_view_module": "@jupyter-widgets/base",
            "_view_module_version": "1.2.0",
            "_view_name": "LayoutView",
            "align_content": null,
            "align_items": null,
            "align_self": null,
            "border": null,
            "bottom": null,
            "display": null,
            "flex": null,
            "flex_flow": null,
            "grid_area": null,
            "grid_auto_columns": null,
            "grid_auto_flow": null,
            "grid_auto_rows": null,
            "grid_column": null,
            "grid_gap": null,
            "grid_row": null,
            "grid_template_areas": null,
            "grid_template_columns": null,
            "grid_template_rows": null,
            "height": null,
            "justify_content": null,
            "justify_items": null,
            "left": null,
            "margin": null,
            "max_height": null,
            "max_width": null,
            "min_height": null,
            "min_width": null,
            "object_fit": null,
            "object_position": null,
            "order": null,
            "overflow": null,
            "overflow_x": null,
            "overflow_y": null,
            "padding": null,
            "right": null,
            "top": null,
            "visibility": null,
            "width": null
          }
        },
        "91c8d7a984e945dbaa03d9997080cecf": {
          "model_module": "@jupyter-widgets/controls",
          "model_module_version": "1.5.0",
          "model_name": "FloatProgressModel",
          "state": {
            "_dom_classes": [],
            "_model_module": "@jupyter-widgets/controls",
            "_model_module_version": "1.5.0",
            "_model_name": "FloatProgressModel",
            "_view_count": null,
            "_view_module": "@jupyter-widgets/controls",
            "_view_module_version": "1.5.0",
            "_view_name": "ProgressView",
            "bar_style": "success",
            "description": "",
            "description_tooltip": null,
            "layout": "IPY_MODEL_32c9a50b212f4a00b998c8809c192b27",
            "max": 479,
            "min": 0,
            "orientation": "horizontal",
            "style": "IPY_MODEL_33af1602de124dc9882f142dccce9e68",
            "value": 479
          }
        },
        "97971a8b6789456d983099b93d1d3644": {
          "model_module": "@jupyter-widgets/controls",
          "model_module_version": "1.5.0",
          "model_name": "HBoxModel",
          "state": {
            "_dom_classes": [],
            "_model_module": "@jupyter-widgets/controls",
            "_model_module_version": "1.5.0",
            "_model_name": "HBoxModel",
            "_view_count": null,
            "_view_module": "@jupyter-widgets/controls",
            "_view_module_version": "1.5.0",
            "_view_name": "HBoxView",
            "box_style": "",
            "children": [
              "IPY_MODEL_4eb6caa9efb64efcafd8b90ed6500569",
              "IPY_MODEL_a0d624f5a6854b6c9f56c6c01f66b31f",
              "IPY_MODEL_6764fedfec0046a78b37211e09aa4d18"
            ],
            "layout": "IPY_MODEL_8eaecef3144e4b7081edec1fadcfa86d"
          }
        },
        "981a5dbd9051497ba5d816c60f61e205": {
          "model_module": "@jupyter-widgets/controls",
          "model_module_version": "1.5.0",
          "model_name": "HTMLModel",
          "state": {
            "_dom_classes": [],
            "_model_module": "@jupyter-widgets/controls",
            "_model_module_version": "1.5.0",
            "_model_name": "HTMLModel",
            "_view_count": null,
            "_view_module": "@jupyter-widgets/controls",
            "_view_module_version": "1.5.0",
            "_view_name": "HTMLView",
            "description": "",
            "description_tooltip": null,
            "layout": "IPY_MODEL_21a6d3290f054e4284c258a4b0303ed9",
            "placeholder": "​",
            "style": "IPY_MODEL_ac1a3949b58947608a13a5dba40fb65e",
            "value": "Downloading (…)solve/main/vocab.txt: 100%"
          }
        },
        "9a1b59d1d1ee419abba391c9bb7a67f5": {
          "model_module": "@jupyter-widgets/base",
          "model_module_version": "1.2.0",
          "model_name": "LayoutModel",
          "state": {
            "_model_module": "@jupyter-widgets/base",
            "_model_module_version": "1.2.0",
            "_model_name": "LayoutModel",
            "_view_count": null,
            "_view_module": "@jupyter-widgets/base",
            "_view_module_version": "1.2.0",
            "_view_name": "LayoutView",
            "align_content": null,
            "align_items": null,
            "align_self": null,
            "border": null,
            "bottom": null,
            "display": null,
            "flex": null,
            "flex_flow": null,
            "grid_area": null,
            "grid_auto_columns": null,
            "grid_auto_flow": null,
            "grid_auto_rows": null,
            "grid_column": null,
            "grid_gap": null,
            "grid_row": null,
            "grid_template_areas": null,
            "grid_template_columns": null,
            "grid_template_rows": null,
            "height": null,
            "justify_content": null,
            "justify_items": null,
            "left": null,
            "margin": null,
            "max_height": null,
            "max_width": null,
            "min_height": null,
            "min_width": null,
            "object_fit": null,
            "object_position": null,
            "order": null,
            "overflow": null,
            "overflow_x": null,
            "overflow_y": null,
            "padding": null,
            "right": null,
            "top": null,
            "visibility": null,
            "width": null
          }
        },
        "9b2d69548ef14c34a3d84b38d86eec79": {
          "model_module": "@jupyter-widgets/base",
          "model_module_version": "1.2.0",
          "model_name": "LayoutModel",
          "state": {
            "_model_module": "@jupyter-widgets/base",
            "_model_module_version": "1.2.0",
            "_model_name": "LayoutModel",
            "_view_count": null,
            "_view_module": "@jupyter-widgets/base",
            "_view_module_version": "1.2.0",
            "_view_name": "LayoutView",
            "align_content": null,
            "align_items": null,
            "align_self": null,
            "border": null,
            "bottom": null,
            "display": null,
            "flex": null,
            "flex_flow": null,
            "grid_area": null,
            "grid_auto_columns": null,
            "grid_auto_flow": null,
            "grid_auto_rows": null,
            "grid_column": null,
            "grid_gap": null,
            "grid_row": null,
            "grid_template_areas": null,
            "grid_template_columns": null,
            "grid_template_rows": null,
            "height": null,
            "justify_content": null,
            "justify_items": null,
            "left": null,
            "margin": null,
            "max_height": null,
            "max_width": null,
            "min_height": null,
            "min_width": null,
            "object_fit": null,
            "object_position": null,
            "order": null,
            "overflow": null,
            "overflow_x": null,
            "overflow_y": null,
            "padding": null,
            "right": null,
            "top": null,
            "visibility": null,
            "width": null
          }
        },
        "9deb47eeb1ca49049ca53b0a374c8af4": {
          "model_module": "@jupyter-widgets/controls",
          "model_module_version": "1.5.0",
          "model_name": "ProgressStyleModel",
          "state": {
            "_model_module": "@jupyter-widgets/controls",
            "_model_module_version": "1.5.0",
            "_model_name": "ProgressStyleModel",
            "_view_count": null,
            "_view_module": "@jupyter-widgets/base",
            "_view_module_version": "1.2.0",
            "_view_name": "StyleView",
            "bar_color": null,
            "description_width": ""
          }
        },
        "a0d624f5a6854b6c9f56c6c01f66b31f": {
          "model_module": "@jupyter-widgets/controls",
          "model_module_version": "1.5.0",
          "model_name": "FloatProgressModel",
          "state": {
            "_dom_classes": [],
            "_model_module": "@jupyter-widgets/controls",
            "_model_module_version": "1.5.0",
            "_model_name": "FloatProgressModel",
            "_view_count": null,
            "_view_module": "@jupyter-widgets/controls",
            "_view_module_version": "1.5.0",
            "_view_name": "ProgressView",
            "bar_style": "success",
            "description": "",
            "description_tooltip": null,
            "layout": "IPY_MODEL_0e9a168a317f4d77abc80383446a7e08",
            "max": 104,
            "min": 0,
            "orientation": "horizontal",
            "style": "IPY_MODEL_dc4eda61c3494508a767d7353ddd874b",
            "value": 104
          }
        },
        "a2fb30d1cd1949be9149c3abf7d70472": {
          "model_module": "@jupyter-widgets/controls",
          "model_module_version": "1.5.0",
          "model_name": "HBoxModel",
          "state": {
            "_dom_classes": [],
            "_model_module": "@jupyter-widgets/controls",
            "_model_module_version": "1.5.0",
            "_model_name": "HBoxModel",
            "_view_count": null,
            "_view_module": "@jupyter-widgets/controls",
            "_view_module_version": "1.5.0",
            "_view_name": "HBoxView",
            "box_style": "",
            "children": [
              "IPY_MODEL_981a5dbd9051497ba5d816c60f61e205",
              "IPY_MODEL_b0f37b7a816f4b158ecd118ae28c8806",
              "IPY_MODEL_47515cde9b2a426eb1ea2e662574c6d6"
            ],
            "layout": "IPY_MODEL_315ba44d52204e4da16c22d59e9f7391"
          }
        },
        "a3472b69d09840c6a957fe066b35bcde": {
          "model_module": "@jupyter-widgets/controls",
          "model_module_version": "1.5.0",
          "model_name": "DescriptionStyleModel",
          "state": {
            "_model_module": "@jupyter-widgets/controls",
            "_model_module_version": "1.5.0",
            "_model_name": "DescriptionStyleModel",
            "_view_count": null,
            "_view_module": "@jupyter-widgets/base",
            "_view_module_version": "1.2.0",
            "_view_name": "StyleView",
            "description_width": ""
          }
        },
        "a57dfcd67c0340a6a2efc8f85af55f0e": {
          "model_module": "@jupyter-widgets/controls",
          "model_module_version": "1.5.0",
          "model_name": "HBoxModel",
          "state": {
            "_dom_classes": [],
            "_model_module": "@jupyter-widgets/controls",
            "_model_module_version": "1.5.0",
            "_model_name": "HBoxModel",
            "_view_count": null,
            "_view_module": "@jupyter-widgets/controls",
            "_view_module_version": "1.5.0",
            "_view_name": "HBoxView",
            "box_style": "",
            "children": [
              "IPY_MODEL_459cbb07413946ad8da3c54f49da28e9",
              "IPY_MODEL_0f047d27a4f04787a29dae774bc4fbd4",
              "IPY_MODEL_e59df511032d4320b0f256e379ceeb44"
            ],
            "layout": "IPY_MODEL_2e2aa6645ad64aa298b6f60882b4996d"
          }
        },
        "a9a906b0c7a049e18f4f6faa8026e98d": {
          "model_module": "@jupyter-widgets/controls",
          "model_module_version": "1.5.0",
          "model_name": "DescriptionStyleModel",
          "state": {
            "_model_module": "@jupyter-widgets/controls",
            "_model_module_version": "1.5.0",
            "_model_name": "DescriptionStyleModel",
            "_view_count": null,
            "_view_module": "@jupyter-widgets/base",
            "_view_module_version": "1.2.0",
            "_view_name": "StyleView",
            "description_width": ""
          }
        },
        "ac1a3949b58947608a13a5dba40fb65e": {
          "model_module": "@jupyter-widgets/controls",
          "model_module_version": "1.5.0",
          "model_name": "DescriptionStyleModel",
          "state": {
            "_model_module": "@jupyter-widgets/controls",
            "_model_module_version": "1.5.0",
            "_model_name": "DescriptionStyleModel",
            "_view_count": null,
            "_view_module": "@jupyter-widgets/base",
            "_view_module_version": "1.2.0",
            "_view_name": "StyleView",
            "description_width": ""
          }
        },
        "b0f37b7a816f4b158ecd118ae28c8806": {
          "model_module": "@jupyter-widgets/controls",
          "model_module_version": "1.5.0",
          "model_name": "FloatProgressModel",
          "state": {
            "_dom_classes": [],
            "_model_module": "@jupyter-widgets/controls",
            "_model_module_version": "1.5.0",
            "_model_name": "FloatProgressModel",
            "_view_count": null,
            "_view_module": "@jupyter-widgets/controls",
            "_view_module_version": "1.5.0",
            "_view_name": "ProgressView",
            "bar_style": "success",
            "description": "",
            "description_tooltip": null,
            "layout": "IPY_MODEL_336d971e91ea4480be233b1a3bdb502d",
            "max": 257706,
            "min": 0,
            "orientation": "horizontal",
            "style": "IPY_MODEL_9deb47eeb1ca49049ca53b0a374c8af4",
            "value": 257706
          }
        },
        "c199e75ab9904047aac5c6d9a023f805": {
          "model_module": "@jupyter-widgets/base",
          "model_module_version": "1.2.0",
          "model_name": "LayoutModel",
          "state": {
            "_model_module": "@jupyter-widgets/base",
            "_model_module_version": "1.2.0",
            "_model_name": "LayoutModel",
            "_view_count": null,
            "_view_module": "@jupyter-widgets/base",
            "_view_module_version": "1.2.0",
            "_view_name": "LayoutView",
            "align_content": null,
            "align_items": null,
            "align_self": null,
            "border": null,
            "bottom": null,
            "display": null,
            "flex": null,
            "flex_flow": null,
            "grid_area": null,
            "grid_auto_columns": null,
            "grid_auto_flow": null,
            "grid_auto_rows": null,
            "grid_column": null,
            "grid_gap": null,
            "grid_row": null,
            "grid_template_areas": null,
            "grid_template_columns": null,
            "grid_template_rows": null,
            "height": null,
            "justify_content": null,
            "justify_items": null,
            "left": null,
            "margin": null,
            "max_height": null,
            "max_width": null,
            "min_height": null,
            "min_width": null,
            "object_fit": null,
            "object_position": null,
            "order": null,
            "overflow": null,
            "overflow_x": null,
            "overflow_y": null,
            "padding": null,
            "right": null,
            "top": null,
            "visibility": null,
            "width": null
          }
        },
        "cc8794cb3770412b8a9dd255f19b9a79": {
          "model_module": "@jupyter-widgets/controls",
          "model_module_version": "1.5.0",
          "model_name": "DescriptionStyleModel",
          "state": {
            "_model_module": "@jupyter-widgets/controls",
            "_model_module_version": "1.5.0",
            "_model_name": "DescriptionStyleModel",
            "_view_count": null,
            "_view_module": "@jupyter-widgets/base",
            "_view_module_version": "1.2.0",
            "_view_name": "StyleView",
            "description_width": ""
          }
        },
        "dc4eda61c3494508a767d7353ddd874b": {
          "model_module": "@jupyter-widgets/controls",
          "model_module_version": "1.5.0",
          "model_name": "ProgressStyleModel",
          "state": {
            "_model_module": "@jupyter-widgets/controls",
            "_model_module_version": "1.5.0",
            "_model_name": "ProgressStyleModel",
            "_view_count": null,
            "_view_module": "@jupyter-widgets/base",
            "_view_module_version": "1.2.0",
            "_view_name": "StyleView",
            "bar_color": null,
            "description_width": ""
          }
        },
        "e59df511032d4320b0f256e379ceeb44": {
          "model_module": "@jupyter-widgets/controls",
          "model_module_version": "1.5.0",
          "model_name": "HTMLModel",
          "state": {
            "_dom_classes": [],
            "_model_module": "@jupyter-widgets/controls",
            "_model_module_version": "1.5.0",
            "_model_name": "HTMLModel",
            "_view_count": null,
            "_view_module": "@jupyter-widgets/controls",
            "_view_module_version": "1.5.0",
            "_view_name": "HTMLView",
            "description": "",
            "description_tooltip": null,
            "layout": "IPY_MODEL_6ed11f56094f441caa8ff7fdf728391c",
            "placeholder": "​",
            "style": "IPY_MODEL_46ee53ade74a4d409823ca36f6a2c1c2",
            "value": " 445M/445M [01:10&lt;00:00, 6.74MB/s]"
          }
        }
      }
    }
  },
  "nbformat": 4,
  "nbformat_minor": 0
}
